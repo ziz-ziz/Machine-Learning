{
 "cells": [
  {
   "cell_type": "markdown",
   "id": "3e15d2da",
   "metadata": {
    "papermill": {
     "duration": 0.07345,
     "end_time": "2022-02-09T12:52:20.787697",
     "exception": false,
     "start_time": "2022-02-09T12:52:20.714247",
     "status": "completed"
    },
    "tags": []
   },
   "source": [
    "# Titanic Binary Classification (타이타닉 생존자 예측)\n",
    "\n",
    "> 타이타닉 탑승 승객의 정보(data)를 바탕으로 그들이 생존했는지를 예측하는 이진 분류 문제  \n",
    "> 주요 핵심은 model, preprocessing and feature engineering"
   ]
  },
  {
   "cell_type": "code",
   "execution_count": 1,
   "id": "d1ee7d46",
   "metadata": {
    "_cell_guid": "b1076dfc-b9ad-4769-8c92-a6c4dae69d19",
    "_uuid": "8f2839f25d086af736a60e9eeb907d3b93b6e0e5",
    "execution": {
     "iopub.execute_input": "2022-02-09T12:52:20.937292Z",
     "iopub.status.busy": "2022-02-09T12:52:20.935919Z",
     "iopub.status.idle": "2022-02-09T12:52:22.086086Z",
     "shell.execute_reply": "2022-02-09T12:52:22.085367Z",
     "shell.execute_reply.started": "2022-02-08T11:42:24.97342Z"
    },
    "papermill": {
     "duration": 1.227825,
     "end_time": "2022-02-09T12:52:22.086275",
     "exception": false,
     "start_time": "2022-02-09T12:52:20.858450",
     "status": "completed"
    },
    "tags": []
   },
   "outputs": [],
   "source": [
    "# library 불러오기\n",
    "import numpy as np \n",
    "import pandas as pd \n",
    "pd.plotting.register_matplotlib_converters()\n",
    "import matplotlib.pyplot as plt\n",
    "%matplotlib inline\n",
    "import seaborn as sns"
   ]
  },
  {
   "cell_type": "markdown",
   "id": "015b8b07",
   "metadata": {
    "papermill": {
     "duration": 0.069916,
     "end_time": "2022-02-09T12:52:22.367357",
     "exception": false,
     "start_time": "2022-02-09T12:52:22.297441",
     "status": "completed"
    },
    "tags": []
   },
   "source": [
    "## Data Load"
   ]
  },
  {
   "cell_type": "markdown",
   "id": "bcd80456",
   "metadata": {
    "papermill": {
     "duration": 0.069852,
     "end_time": "2022-02-09T12:52:22.506674",
     "exception": false,
     "start_time": "2022-02-09T12:52:22.436822",
     "status": "completed"
    },
    "tags": []
   },
   "source": [
    "> 처음에는 train 데이터를 불러온 뒤, 기본 정보와 결측치 여부, 레이블 분포 등을 확인함.  \n",
    "> 각 feature를 하나하나 뜯어보며 어떻게 변형할 수 있을지 전략을 세움."
   ]
  },
  {
   "cell_type": "markdown",
   "id": "b404d0bf",
   "metadata": {},
   "source": [
    "데이터를 불러온 후 상위 행을 출력해서 변수 확인"
   ]
  },
  {
   "cell_type": "code",
   "execution_count": 2,
   "id": "bdb6c9b3",
   "metadata": {
    "execution": {
     "iopub.execute_input": "2022-02-09T12:52:22.650865Z",
     "iopub.status.busy": "2022-02-09T12:52:22.649992Z",
     "iopub.status.idle": "2022-02-09T12:52:22.685244Z",
     "shell.execute_reply": "2022-02-09T12:52:22.685805Z",
     "shell.execute_reply.started": "2022-02-08T11:42:24.980988Z"
    },
    "papermill": {
     "duration": 0.109314,
     "end_time": "2022-02-09T12:52:22.685993",
     "exception": false,
     "start_time": "2022-02-09T12:52:22.576679",
     "status": "completed"
    },
    "tags": []
   },
   "outputs": [],
   "source": [
    "#Load the dataset\n",
    "data=pd.read_csv(\"data/train.csv\",index_col=\"PassengerId\")\n",
    "y=data[\"Survived\"]\n",
    "X=data.drop(labels=[\"Survived\"], axis=1)"
   ]
  },
  {
   "cell_type": "code",
   "execution_count": null,
   "id": "9d913543",
   "metadata": {
    "execution": {
     "iopub.execute_input": "2022-02-09T12:52:22.973233Z",
     "iopub.status.busy": "2022-02-09T12:52:22.972617Z",
     "iopub.status.idle": "2022-02-09T12:52:22.995901Z",
     "shell.execute_reply": "2022-02-09T12:52:22.996405Z",
     "shell.execute_reply.started": "2022-02-08T11:42:25.003974Z"
    },
    "papermill": {
     "duration": 0.097469,
     "end_time": "2022-02-09T12:52:22.996594",
     "exception": false,
     "start_time": "2022-02-09T12:52:22.899125",
     "status": "completed"
    },
    "tags": []
   },
   "outputs": [
    {
     "name": "stdout",
     "output_type": "stream",
     "text": [
      "number of data inputs =  891\n"
     ]
    },
    {
     "data": {
      "text/html": [
       "<div>\n",
       "<style scoped>\n",
       "    .dataframe tbody tr th:only-of-type {\n",
       "        vertical-align: middle;\n",
       "    }\n",
       "\n",
       "    .dataframe tbody tr th {\n",
       "        vertical-align: top;\n",
       "    }\n",
       "\n",
       "    .dataframe thead th {\n",
       "        text-align: right;\n",
       "    }\n",
       "</style>\n",
       "<table border=\"1\" class=\"dataframe\">\n",
       "  <thead>\n",
       "    <tr style=\"text-align: right;\">\n",
       "      <th></th>\n",
       "      <th>Pclass</th>\n",
       "      <th>Name</th>\n",
       "      <th>Sex</th>\n",
       "      <th>Age</th>\n",
       "      <th>SibSp</th>\n",
       "      <th>Parch</th>\n",
       "      <th>Ticket</th>\n",
       "      <th>Fare</th>\n",
       "      <th>Cabin</th>\n",
       "      <th>Embarked</th>\n",
       "    </tr>\n",
       "    <tr>\n",
       "      <th>PassengerId</th>\n",
       "      <th></th>\n",
       "      <th></th>\n",
       "      <th></th>\n",
       "      <th></th>\n",
       "      <th></th>\n",
       "      <th></th>\n",
       "      <th></th>\n",
       "      <th></th>\n",
       "      <th></th>\n",
       "      <th></th>\n",
       "    </tr>\n",
       "  </thead>\n",
       "  <tbody>\n",
       "    <tr>\n",
       "      <th>1</th>\n",
       "      <td>3</td>\n",
       "      <td>Braund, Mr. Owen Harris</td>\n",
       "      <td>male</td>\n",
       "      <td>22.0</td>\n",
       "      <td>1</td>\n",
       "      <td>0</td>\n",
       "      <td>A/5 21171</td>\n",
       "      <td>7.2500</td>\n",
       "      <td>NaN</td>\n",
       "      <td>S</td>\n",
       "    </tr>\n",
       "    <tr>\n",
       "      <th>2</th>\n",
       "      <td>1</td>\n",
       "      <td>Cumings, Mrs. John Bradley (Florence Briggs Th...</td>\n",
       "      <td>female</td>\n",
       "      <td>38.0</td>\n",
       "      <td>1</td>\n",
       "      <td>0</td>\n",
       "      <td>PC 17599</td>\n",
       "      <td>71.2833</td>\n",
       "      <td>C85</td>\n",
       "      <td>C</td>\n",
       "    </tr>\n",
       "    <tr>\n",
       "      <th>3</th>\n",
       "      <td>3</td>\n",
       "      <td>Heikkinen, Miss. Laina</td>\n",
       "      <td>female</td>\n",
       "      <td>26.0</td>\n",
       "      <td>0</td>\n",
       "      <td>0</td>\n",
       "      <td>STON/O2. 3101282</td>\n",
       "      <td>7.9250</td>\n",
       "      <td>NaN</td>\n",
       "      <td>S</td>\n",
       "    </tr>\n",
       "    <tr>\n",
       "      <th>4</th>\n",
       "      <td>1</td>\n",
       "      <td>Futrelle, Mrs. Jacques Heath (Lily May Peel)</td>\n",
       "      <td>female</td>\n",
       "      <td>35.0</td>\n",
       "      <td>1</td>\n",
       "      <td>0</td>\n",
       "      <td>113803</td>\n",
       "      <td>53.1000</td>\n",
       "      <td>C123</td>\n",
       "      <td>S</td>\n",
       "    </tr>\n",
       "    <tr>\n",
       "      <th>5</th>\n",
       "      <td>3</td>\n",
       "      <td>Allen, Mr. William Henry</td>\n",
       "      <td>male</td>\n",
       "      <td>35.0</td>\n",
       "      <td>0</td>\n",
       "      <td>0</td>\n",
       "      <td>373450</td>\n",
       "      <td>8.0500</td>\n",
       "      <td>NaN</td>\n",
       "      <td>S</td>\n",
       "    </tr>\n",
       "  </tbody>\n",
       "</table>\n",
       "</div>"
      ],
      "text/plain": [
       "             Pclass                                               Name  \\\n",
       "PassengerId                                                              \n",
       "1                 3                            Braund, Mr. Owen Harris   \n",
       "2                 1  Cumings, Mrs. John Bradley (Florence Briggs Th...   \n",
       "3                 3                             Heikkinen, Miss. Laina   \n",
       "4                 1       Futrelle, Mrs. Jacques Heath (Lily May Peel)   \n",
       "5                 3                           Allen, Mr. William Henry   \n",
       "\n",
       "                Sex   Age  SibSp  Parch            Ticket     Fare Cabin  \\\n",
       "PassengerId                                                                \n",
       "1              male  22.0      1      0         A/5 21171   7.2500   NaN   \n",
       "2            female  38.0      1      0          PC 17599  71.2833   C85   \n",
       "3            female  26.0      0      0  STON/O2. 3101282   7.9250   NaN   \n",
       "4            female  35.0      1      0            113803  53.1000  C123   \n",
       "5              male  35.0      0      0            373450   8.0500   NaN   \n",
       "\n",
       "            Embarked  \n",
       "PassengerId           \n",
       "1                  S  \n",
       "2                  C  \n",
       "3                  S  \n",
       "4                  S  \n",
       "5                  S  "
      ]
     },
     "execution_count": 3,
     "metadata": {},
     "output_type": "execute_result"
    }
   ],
   "source": [
    "# 입력 데이터의 형태 살펴보기\n",
    "print('number of data inputs = ',len(X.index))\n",
    "X.head()"
   ]
  },
  {
   "cell_type": "markdown",
   "id": "d4359c3e",
   "metadata": {
    "papermill": {
     "duration": 0.071812,
     "end_time": "2022-02-09T12:52:23.141087",
     "exception": false,
     "start_time": "2022-02-09T12:52:23.069275",
     "status": "completed"
    },
    "tags": []
   },
   "source": [
    "레이블의 상위 몇 개 값도 함께 확인"
   ]
  },
  {
   "cell_type": "code",
   "execution_count": 4,
   "id": "acf3cc60",
   "metadata": {
    "execution": {
     "iopub.execute_input": "2022-02-09T12:52:23.286869Z",
     "iopub.status.busy": "2022-02-09T12:52:23.286174Z",
     "iopub.status.idle": "2022-02-09T12:52:23.291877Z",
     "shell.execute_reply": "2022-02-09T12:52:23.292365Z",
     "shell.execute_reply.started": "2022-02-08T11:42:25.021463Z"
    },
    "papermill": {
     "duration": 0.080517,
     "end_time": "2022-02-09T12:52:23.292554",
     "exception": false,
     "start_time": "2022-02-09T12:52:23.212037",
     "status": "completed"
    },
    "tags": []
   },
   "outputs": [
    {
     "data": {
      "text/plain": [
       "PassengerId\n",
       "1    0\n",
       "2    1\n",
       "3    1\n",
       "4    1\n",
       "5    0\n",
       "Name: Survived, dtype: int64"
      ]
     },
     "execution_count": 4,
     "metadata": {},
     "output_type": "execute_result"
    }
   ],
   "source": [
    "y.head()"
   ]
  },
  {
   "cell_type": "markdown",
   "id": "1a9ea772",
   "metadata": {
    "papermill": {
     "duration": 0.072537,
     "end_time": "2022-02-09T12:52:23.436738",
     "exception": false,
     "start_time": "2022-02-09T12:52:23.364201",
     "status": "completed"
    },
    "tags": []
   },
   "source": [
    "여기서 1은 생존, 0은 사망을 의미함"
   ]
  },
  {
   "cell_type": "markdown",
   "id": "1f6532e3",
   "metadata": {
    "papermill": {
     "duration": 0.07134,
     "end_time": "2022-02-09T12:52:23.581466",
     "exception": false,
     "start_time": "2022-02-09T12:52:23.510126",
     "status": "completed"
    },
    "tags": []
   },
   "source": [
    "데이터 타입과 결측치 개수를 확인함"
   ]
  },
  {
   "cell_type": "code",
   "execution_count": 5,
   "id": "1960263a",
   "metadata": {
    "execution": {
     "iopub.execute_input": "2022-02-09T12:52:23.728394Z",
     "iopub.status.busy": "2022-02-09T12:52:23.727703Z",
     "iopub.status.idle": "2022-02-09T12:52:23.744725Z",
     "shell.execute_reply": "2022-02-09T12:52:23.745279Z",
     "shell.execute_reply.started": "2022-02-08T11:42:25.039447Z"
    },
    "papermill": {
     "duration": 0.092208,
     "end_time": "2022-02-09T12:52:23.745484",
     "exception": false,
     "start_time": "2022-02-09T12:52:23.653276",
     "status": "completed"
    },
    "tags": []
   },
   "outputs": [
    {
     "name": "stdout",
     "output_type": "stream",
     "text": [
      "<class 'pandas.core.frame.DataFrame'>\n",
      "Index: 891 entries, 1 to 891\n",
      "Data columns (total 10 columns):\n",
      " #   Column    Non-Null Count  Dtype  \n",
      "---  ------    --------------  -----  \n",
      " 0   Pclass    891 non-null    int64  \n",
      " 1   Name      891 non-null    object \n",
      " 2   Sex       891 non-null    object \n",
      " 3   Age       714 non-null    float64\n",
      " 4   SibSp     891 non-null    int64  \n",
      " 5   Parch     891 non-null    int64  \n",
      " 6   Ticket    891 non-null    object \n",
      " 7   Fare      891 non-null    float64\n",
      " 8   Cabin     204 non-null    object \n",
      " 9   Embarked  889 non-null    object \n",
      "dtypes: float64(2), int64(3), object(5)\n",
      "memory usage: 76.6+ KB\n"
     ]
    }
   ],
   "source": [
    "X.info()"
   ]
  },
  {
   "cell_type": "markdown",
   "id": "dd43a1cd",
   "metadata": {
    "papermill": {
     "duration": 0.071,
     "end_time": "2022-02-09T12:52:23.887772",
     "exception": false,
     "start_time": "2022-02-09T12:52:23.816772",
     "status": "completed"
    },
    "tags": []
   },
   "source": [
    "각 feature를 하나씩 보고 전처리를 진행"
   ]
  },
  {
   "cell_type": "markdown",
   "id": "a7f6090d",
   "metadata": {
    "papermill": {
     "duration": 0.072463,
     "end_time": "2022-02-09T12:52:24.034135",
     "exception": false,
     "start_time": "2022-02-09T12:52:23.961672",
     "status": "completed"
    },
    "tags": []
   },
   "source": [
    "## Feature engineering\n",
    ">- data를 model에 넣기 전에 각 column들을 분석하고 변환하는 과정.  \n",
    ">- 특히 범주형 변수 처리, 파생 변수 생성, 스케일링 등이 포함됨."
   ]
  },
  {
   "cell_type": "markdown",
   "id": "18c2fc64",
   "metadata": {
    "papermill": {
     "duration": 0.072544,
     "end_time": "2022-02-09T12:52:24.178090",
     "exception": false,
     "start_time": "2022-02-09T12:52:24.105546",
     "status": "completed"
    },
    "tags": []
   },
   "source": [
    "### Pclass (객실 등급)\n",
    ">- ticket 등급을 의미하는 column. \n",
    ">- 숫자처럼 보이지만 실제로는 category 개념이 강함 → One-hot encoding으로 변환.\n",
    ">- Pclass는 1, 2, 3의 값을 가지며 객실 등급을 나타냄"
   ]
  },
  {
   "cell_type": "code",
   "execution_count": 6,
   "id": "94f2d74c",
   "metadata": {
    "execution": {
     "iopub.execute_input": "2022-02-09T12:52:24.467597Z",
     "iopub.status.busy": "2022-02-09T12:52:24.466858Z",
     "iopub.status.idle": "2022-02-09T12:52:24.473013Z",
     "shell.execute_reply": "2022-02-09T12:52:24.473592Z",
     "shell.execute_reply.started": "2022-02-08T11:42:25.060826Z"
    },
    "papermill": {
     "duration": 0.08074,
     "end_time": "2022-02-09T12:52:24.473768",
     "exception": false,
     "start_time": "2022-02-09T12:52:24.393028",
     "status": "completed"
    },
    "tags": []
   },
   "outputs": [
    {
     "data": {
      "text/plain": [
       "Pclass\n",
       "3    491\n",
       "1    216\n",
       "2    184\n",
       "Name: count, dtype: int64"
      ]
     },
     "execution_count": 6,
     "metadata": {},
     "output_type": "execute_result"
    }
   ],
   "source": [
    "X.Pclass.value_counts()"
   ]
  },
  {
   "cell_type": "code",
   "execution_count": 7,
   "id": "5393891d",
   "metadata": {
    "execution": {
     "iopub.execute_input": "2022-02-09T12:52:24.767435Z",
     "iopub.status.busy": "2022-02-09T12:52:24.765321Z",
     "iopub.status.idle": "2022-02-09T12:52:24.776943Z",
     "shell.execute_reply": "2022-02-09T12:52:24.777583Z",
     "shell.execute_reply.started": "2022-02-08T11:42:25.075945Z"
    },
    "papermill": {
     "duration": 0.08838,
     "end_time": "2022-02-09T12:52:24.777774",
     "exception": false,
     "start_time": "2022-02-09T12:52:24.689394",
     "status": "completed"
    },
    "tags": []
   },
   "outputs": [],
   "source": [
    "oh= pd.get_dummies(X.Pclass,prefix=\"Pclass\")\n",
    "X = X.drop(labels='Pclass',axis=1).join(oh)"
   ]
  },
  {
   "cell_type": "markdown",
   "id": "fb9a4c9f",
   "metadata": {
    "papermill": {
     "duration": 0.072879,
     "end_time": "2022-02-09T12:52:24.922840",
     "exception": false,
     "start_time": "2022-02-09T12:52:24.849961",
     "status": "completed"
    },
    "tags": []
   },
   "source": [
    "### Name\n",
    ">- Name 컬럼은 직접 사용하지 않지만, 그 안의 title 정보는 유용.  \n",
    ">- 이름에서 의미 있는 정보는 호칭(title)로 판단하여 이를 추출함\n",
    ">- Mr, Mrs, Miss 등 호칭을 추출해서 새로운 feature로 사용."
   ]
  },
  {
   "cell_type": "code",
   "execution_count": null,
   "id": "1755fb55",
   "metadata": {
    "execution": {
     "iopub.execute_input": "2022-02-09T12:52:25.215887Z",
     "iopub.status.busy": "2022-02-09T12:52:25.215051Z",
     "iopub.status.idle": "2022-02-09T12:52:25.242218Z",
     "shell.execute_reply": "2022-02-09T12:52:25.242841Z",
     "shell.execute_reply.started": "2022-02-08T11:42:25.089206Z"
    },
    "papermill": {
     "duration": 0.102953,
     "end_time": "2022-02-09T12:52:25.243014",
     "exception": false,
     "start_time": "2022-02-09T12:52:25.140061",
     "status": "completed"
    },
    "tags": []
   },
   "outputs": [
    {
     "data": {
      "text/html": [
       "<div>\n",
       "<style scoped>\n",
       "    .dataframe tbody tr th:only-of-type {\n",
       "        vertical-align: middle;\n",
       "    }\n",
       "\n",
       "    .dataframe tbody tr th {\n",
       "        vertical-align: top;\n",
       "    }\n",
       "\n",
       "    .dataframe thead th {\n",
       "        text-align: right;\n",
       "    }\n",
       "</style>\n",
       "<table border=\"1\" class=\"dataframe\">\n",
       "  <thead>\n",
       "    <tr style=\"text-align: right;\">\n",
       "      <th>Sex</th>\n",
       "      <th>female</th>\n",
       "      <th>male</th>\n",
       "    </tr>\n",
       "    <tr>\n",
       "      <th>Title</th>\n",
       "      <th></th>\n",
       "      <th></th>\n",
       "    </tr>\n",
       "  </thead>\n",
       "  <tbody>\n",
       "    <tr>\n",
       "      <th>Capt</th>\n",
       "      <td>0</td>\n",
       "      <td>1</td>\n",
       "    </tr>\n",
       "    <tr>\n",
       "      <th>Col</th>\n",
       "      <td>0</td>\n",
       "      <td>2</td>\n",
       "    </tr>\n",
       "    <tr>\n",
       "      <th>Countess</th>\n",
       "      <td>1</td>\n",
       "      <td>0</td>\n",
       "    </tr>\n",
       "    <tr>\n",
       "      <th>Don</th>\n",
       "      <td>0</td>\n",
       "      <td>1</td>\n",
       "    </tr>\n",
       "    <tr>\n",
       "      <th>Dr</th>\n",
       "      <td>1</td>\n",
       "      <td>6</td>\n",
       "    </tr>\n",
       "    <tr>\n",
       "      <th>Jonkheer</th>\n",
       "      <td>0</td>\n",
       "      <td>1</td>\n",
       "    </tr>\n",
       "    <tr>\n",
       "      <th>Lady</th>\n",
       "      <td>1</td>\n",
       "      <td>0</td>\n",
       "    </tr>\n",
       "    <tr>\n",
       "      <th>Major</th>\n",
       "      <td>0</td>\n",
       "      <td>2</td>\n",
       "    </tr>\n",
       "    <tr>\n",
       "      <th>Master</th>\n",
       "      <td>0</td>\n",
       "      <td>40</td>\n",
       "    </tr>\n",
       "    <tr>\n",
       "      <th>Miss</th>\n",
       "      <td>182</td>\n",
       "      <td>0</td>\n",
       "    </tr>\n",
       "    <tr>\n",
       "      <th>Mlle</th>\n",
       "      <td>2</td>\n",
       "      <td>0</td>\n",
       "    </tr>\n",
       "    <tr>\n",
       "      <th>Mme</th>\n",
       "      <td>1</td>\n",
       "      <td>0</td>\n",
       "    </tr>\n",
       "    <tr>\n",
       "      <th>Mr</th>\n",
       "      <td>0</td>\n",
       "      <td>517</td>\n",
       "    </tr>\n",
       "    <tr>\n",
       "      <th>Mrs</th>\n",
       "      <td>125</td>\n",
       "      <td>0</td>\n",
       "    </tr>\n",
       "    <tr>\n",
       "      <th>Ms</th>\n",
       "      <td>1</td>\n",
       "      <td>0</td>\n",
       "    </tr>\n",
       "    <tr>\n",
       "      <th>Rev</th>\n",
       "      <td>0</td>\n",
       "      <td>6</td>\n",
       "    </tr>\n",
       "    <tr>\n",
       "      <th>Sir</th>\n",
       "      <td>0</td>\n",
       "      <td>1</td>\n",
       "    </tr>\n",
       "  </tbody>\n",
       "</table>\n",
       "</div>"
      ],
      "text/plain": [
       "Sex       female  male\n",
       "Title                 \n",
       "Capt           0     1\n",
       "Col            0     2\n",
       "Countess       1     0\n",
       "Don            0     1\n",
       "Dr             1     6\n",
       "Jonkheer       0     1\n",
       "Lady           1     0\n",
       "Major          0     2\n",
       "Master         0    40\n",
       "Miss         182     0\n",
       "Mlle           2     0\n",
       "Mme            1     0\n",
       "Mr             0   517\n",
       "Mrs          125     0\n",
       "Ms             1     0\n",
       "Rev            0     6\n",
       "Sir            0     1"
      ]
     },
     "execution_count": 8,
     "metadata": {},
     "output_type": "execute_result"
    }
   ],
   "source": [
    "X['Title'] = X.Name.str.extract(' ([A-Za-z]+)\\.', expand = False)\n",
    "pd.crosstab(X.Title, X.Sex)"
   ]
  },
  {
   "cell_type": "markdown",
   "id": "11c255e1",
   "metadata": {
    "papermill": {
     "duration": 0.071352,
     "end_time": "2022-02-09T12:52:25.386428",
     "exception": false,
     "start_time": "2022-02-09T12:52:25.315076",
     "status": "completed"
    },
    "tags": []
   },
   "source": [
    "희귀한 title은 Rare로 묶고, 비슷한 것끼리는 합침"
   ]
  },
  {
   "cell_type": "code",
   "execution_count": 9,
   "id": "fc53502c",
   "metadata": {
    "execution": {
     "iopub.execute_input": "2022-02-09T12:52:25.536712Z",
     "iopub.status.busy": "2022-02-09T12:52:25.535904Z",
     "iopub.status.idle": "2022-02-09T12:52:25.556685Z",
     "shell.execute_reply": "2022-02-09T12:52:25.557229Z",
     "shell.execute_reply.started": "2022-02-08T11:42:25.115055Z"
    },
    "papermill": {
     "duration": 0.099522,
     "end_time": "2022-02-09T12:52:25.557402",
     "exception": false,
     "start_time": "2022-02-09T12:52:25.457880",
     "status": "completed"
    },
    "tags": []
   },
   "outputs": [
    {
     "data": {
      "text/html": [
       "<div>\n",
       "<style scoped>\n",
       "    .dataframe tbody tr th:only-of-type {\n",
       "        vertical-align: middle;\n",
       "    }\n",
       "\n",
       "    .dataframe tbody tr th {\n",
       "        vertical-align: top;\n",
       "    }\n",
       "\n",
       "    .dataframe thead th {\n",
       "        text-align: right;\n",
       "    }\n",
       "</style>\n",
       "<table border=\"1\" class=\"dataframe\">\n",
       "  <thead>\n",
       "    <tr style=\"text-align: right;\">\n",
       "      <th>Sex</th>\n",
       "      <th>female</th>\n",
       "      <th>male</th>\n",
       "    </tr>\n",
       "    <tr>\n",
       "      <th>Title</th>\n",
       "      <th></th>\n",
       "      <th></th>\n",
       "    </tr>\n",
       "  </thead>\n",
       "  <tbody>\n",
       "    <tr>\n",
       "      <th>Master</th>\n",
       "      <td>0</td>\n",
       "      <td>40</td>\n",
       "    </tr>\n",
       "    <tr>\n",
       "      <th>Miss</th>\n",
       "      <td>185</td>\n",
       "      <td>0</td>\n",
       "    </tr>\n",
       "    <tr>\n",
       "      <th>Mr</th>\n",
       "      <td>0</td>\n",
       "      <td>517</td>\n",
       "    </tr>\n",
       "    <tr>\n",
       "      <th>Mrs</th>\n",
       "      <td>126</td>\n",
       "      <td>0</td>\n",
       "    </tr>\n",
       "    <tr>\n",
       "      <th>Rare</th>\n",
       "      <td>3</td>\n",
       "      <td>20</td>\n",
       "    </tr>\n",
       "  </tbody>\n",
       "</table>\n",
       "</div>"
      ],
      "text/plain": [
       "Sex     female  male\n",
       "Title               \n",
       "Master       0    40\n",
       "Miss       185     0\n",
       "Mr           0   517\n",
       "Mrs        126     0\n",
       "Rare         3    20"
      ]
     },
     "execution_count": 9,
     "metadata": {},
     "output_type": "execute_result"
    }
   ],
   "source": [
    "rare_titles = ['Capt', 'Col', 'Countess', 'Don', 'Dona', 'Dr', 'Jonkheer', 'Lady',\n",
    "           'Major', 'Rev', 'Sir']\n",
    "\n",
    "X.Title.replace(rare_titles, 'Rare', inplace = True)\n",
    "X.Title.replace(['Mlle', 'Ms'], 'Miss', inplace = True)\n",
    "X.Title.replace(['Mme'], 'Mrs', inplace = True)\n",
    "pd.crosstab(X.Title, X.Sex)"
   ]
  },
  {
   "cell_type": "code",
   "execution_count": 10,
   "id": "7839aafc",
   "metadata": {
    "execution": {
     "iopub.execute_input": "2022-02-09T12:52:25.707188Z",
     "iopub.status.busy": "2022-02-09T12:52:25.706461Z",
     "iopub.status.idle": "2022-02-09T12:52:25.938675Z",
     "shell.execute_reply": "2022-02-09T12:52:25.938130Z",
     "shell.execute_reply.started": "2022-02-08T11:42:25.140885Z"
    },
    "papermill": {
     "duration": 0.308764,
     "end_time": "2022-02-09T12:52:25.938832",
     "exception": false,
     "start_time": "2022-02-09T12:52:25.630068",
     "status": "completed"
    },
    "tags": []
   },
   "outputs": [
    {
     "data": {
      "text/plain": [
       "<Axes: xlabel='Title', ylabel='count'>"
      ]
     },
     "execution_count": 10,
     "metadata": {},
     "output_type": "execute_result"
    },
    {
     "data": {
      "image/png": "[encoded data removed]",
      "text/plain": [
       "<Figure size 640x480 with 1 Axes>"
      ]
     },
     "metadata": {},
     "output_type": "display_data"
    }
   ],
   "source": [
    "sns.countplot(x=X.Title,hue=data.Survived)"
   ]
  },
  {
   "cell_type": "code",
   "execution_count": 11,
   "id": "239d9592",
   "metadata": {
    "execution": {
     "iopub.execute_input": "2022-02-09T12:52:26.091613Z",
     "iopub.status.busy": "2022-02-09T12:52:26.090841Z",
     "iopub.status.idle": "2022-02-09T12:52:26.100023Z",
     "shell.execute_reply": "2022-02-09T12:52:26.100596Z",
     "shell.execute_reply.started": "2022-02-08T11:42:25.35593Z"
    },
    "papermill": {
     "duration": 0.087184,
     "end_time": "2022-02-09T12:52:26.100777",
     "exception": false,
     "start_time": "2022-02-09T12:52:26.013593",
     "status": "completed"
    },
    "tags": []
   },
   "outputs": [],
   "source": [
    "oh= pd.get_dummies(X.Title,prefix=\"Title\")\n",
    "X = X.drop(labels=['Name','Title'],axis=1).join(oh)\n",
    "#X.Name = (X.Name.str.contains('Mr.')|X.Name.str.contains('Mrs.')).astype(np.uint8)"
   ]
  },
  {
   "cell_type": "markdown",
   "id": "1da151a4",
   "metadata": {
    "papermill": {
     "duration": 0.073492,
     "end_time": "2022-02-09T12:52:26.248046",
     "exception": false,
     "start_time": "2022-02-09T12:52:26.174554",
     "status": "completed"
    },
    "tags": []
   },
   "source": [
    "### Sex"
   ]
  },
  {
   "cell_type": "markdown",
   "id": "7acf8436",
   "metadata": {
    "papermill": {
     "duration": 0.07475,
     "end_time": "2022-02-09T12:52:26.399995",
     "exception": false,
     "start_time": "2022-02-09T12:52:26.325245",
     "status": "completed"
    },
    "tags": []
   },
   "source": [
    ">단 두 개의 값만 존재하므로 이진 인코딩 처리함.  \n",
    ">* 여성을 1, 남성을 0으로 처리함."
   ]
  },
  {
   "cell_type": "code",
   "execution_count": 12,
   "id": "9d9a0fe2",
   "metadata": {
    "execution": {
     "iopub.execute_input": "2022-02-09T12:52:26.549818Z",
     "iopub.status.busy": "2022-02-09T12:52:26.549159Z",
     "iopub.status.idle": "2022-02-09T12:52:26.556175Z",
     "shell.execute_reply": "2022-02-09T12:52:26.556758Z",
     "shell.execute_reply.started": "2022-02-08T11:42:25.364978Z"
    },
    "papermill": {
     "duration": 0.083896,
     "end_time": "2022-02-09T12:52:26.556946",
     "exception": false,
     "start_time": "2022-02-09T12:52:26.473050",
     "status": "completed"
    },
    "tags": []
   },
   "outputs": [
    {
     "data": {
      "text/plain": [
       "Sex\n",
       "male      577\n",
       "female    314\n",
       "Name: count, dtype: int64"
      ]
     },
     "execution_count": 12,
     "metadata": {},
     "output_type": "execute_result"
    }
   ],
   "source": [
    "X.Sex.value_counts()"
   ]
  },
  {
   "cell_type": "code",
   "execution_count": 13,
   "id": "3253b4b5",
   "metadata": {
    "execution": {
     "iopub.execute_input": "2022-02-09T12:52:26.860903Z",
     "iopub.status.busy": "2022-02-09T12:52:26.860063Z",
     "iopub.status.idle": "2022-02-09T12:52:26.861913Z",
     "shell.execute_reply": "2022-02-09T12:52:26.862581Z",
     "shell.execute_reply.started": "2022-02-08T11:42:25.376351Z"
    },
    "papermill": {
     "duration": 0.08255,
     "end_time": "2022-02-09T12:52:26.862762",
     "exception": false,
     "start_time": "2022-02-09T12:52:26.780212",
     "status": "completed"
    },
    "tags": []
   },
   "outputs": [],
   "source": [
    "X.Sex= (X.Sex=='female').astype(np.uint8)"
   ]
  },
  {
   "cell_type": "code",
   "execution_count": 14,
   "id": "8e1206f5",
   "metadata": {
    "execution": {
     "iopub.execute_input": "2022-02-09T12:52:27.017081Z",
     "iopub.status.busy": "2022-02-09T12:52:27.016371Z",
     "iopub.status.idle": "2022-02-09T12:52:27.177339Z",
     "shell.execute_reply": "2022-02-09T12:52:27.178289Z",
     "shell.execute_reply.started": "2022-02-08T11:42:25.387517Z"
    },
    "papermill": {
     "duration": 0.239765,
     "end_time": "2022-02-09T12:52:27.178607",
     "exception": false,
     "start_time": "2022-02-09T12:52:26.938842",
     "status": "completed"
    },
    "tags": []
   },
   "outputs": [
    {
     "data": {
      "text/plain": [
       "<Axes: xlabel='Sex', ylabel='count'>"
      ]
     },
     "execution_count": 14,
     "metadata": {},
     "output_type": "execute_result"
    },
    {
     "data": {
      "image/png": "[encoded data removed]",
      "text/plain": [
       "<Figure size 640x480 with 1 Axes>"
      ]
     },
     "metadata": {},
     "output_type": "display_data"
    }
   ],
   "source": [
    "sns.countplot(data=data,x='Sex',hue=\"Survived\")"
   ]
  },
  {
   "cell_type": "markdown",
   "id": "7d5bc1fa",
   "metadata": {
    "papermill": {
     "duration": 0.078542,
     "end_time": "2022-02-09T12:52:27.334903",
     "exception": false,
     "start_time": "2022-02-09T12:52:27.256361",
     "status": "completed"
    },
    "tags": []
   },
   "source": [
    "### Age(나이)"
   ]
  },
  {
   "cell_type": "code",
   "execution_count": 15,
   "id": "e54b0d00",
   "metadata": {
    "execution": {
     "iopub.execute_input": "2022-02-09T12:52:27.492663Z",
     "iopub.status.busy": "2022-02-09T12:52:27.491950Z",
     "iopub.status.idle": "2022-02-09T12:52:27.776839Z",
     "shell.execute_reply": "2022-02-09T12:52:27.776237Z",
     "shell.execute_reply.started": "2022-02-08T11:42:25.580452Z"
    },
    "papermill": {
     "duration": 0.363881,
     "end_time": "2022-02-09T12:52:27.777011",
     "exception": false,
     "start_time": "2022-02-09T12:52:27.413130",
     "status": "completed"
    },
    "tags": []
   },
   "outputs": [
    {
     "data": {
      "text/plain": [
       "<Axes: xlabel='Age', ylabel='Density'>"
      ]
     },
     "execution_count": 15,
     "metadata": {},
     "output_type": "execute_result"
    },
    {
     "data": {
      "image/png": "[encoded data removed]",
      "text/plain": [
       "<Figure size 640x480 with 1 Axes>"
      ]
     },
     "metadata": {},
     "output_type": "display_data"
    }
   ],
   "source": [
    "# Age와 Survived를 하나의 DataFrame으로 묶기\n",
    "df_plot = pd.DataFrame({\n",
    "    \"Age\": X[\"Age\"],\n",
    "    \"Survived\": y\n",
    "})\n",
    "\n",
    "# kdeplot 그리기 (fill=True는 shade=True의 최신 옵션)\n",
    "sns.kdeplot(data=df_plot, x=\"Age\", hue=\"Survived\", fill=True)"
   ]
  },
  {
   "cell_type": "markdown",
   "id": "4238a004",
   "metadata": {
    "execution": {
     "iopub.execute_input": "2022-02-07T13:26:25.958416Z",
     "iopub.status.busy": "2022-02-07T13:26:25.95753Z",
     "iopub.status.idle": "2022-02-07T13:26:25.964562Z",
     "shell.execute_reply": "2022-02-07T13:26:25.963445Z",
     "shell.execute_reply.started": "2022-02-07T13:26:25.958366Z"
    },
    "papermill": {
     "duration": 0.078571,
     "end_time": "2022-02-09T12:52:27.933976",
     "exception": false,
     "start_time": "2022-02-09T12:52:27.855405",
     "status": "completed"
    },
    "tags": []
   },
   "source": [
    "missing value(결측치)의 비율 확인해보기\n",
    "* 그냥 했을 때 결과가 이상했었음."
   ]
  },
  {
   "cell_type": "code",
   "execution_count": 16,
   "id": "d278deaf",
   "metadata": {
    "execution": {
     "iopub.execute_input": "2022-02-09T12:52:28.092892Z",
     "iopub.status.busy": "2022-02-09T12:52:28.092216Z",
     "iopub.status.idle": "2022-02-09T12:52:28.099372Z",
     "shell.execute_reply": "2022-02-09T12:52:28.100075Z",
     "shell.execute_reply.started": "2022-02-08T11:42:25.825528Z"
    },
    "papermill": {
     "duration": 0.088543,
     "end_time": "2022-02-09T12:52:28.100318",
     "exception": false,
     "start_time": "2022-02-09T12:52:28.011775",
     "status": "completed"
    },
    "tags": []
   },
   "outputs": [
    {
     "name": "stdout",
     "output_type": "stream",
     "text": [
      "결측치 비율 : 19.9 %\n"
     ]
    }
   ],
   "source": [
    "# Age 컬럼의 결측치 비율을 확인함\n",
    "ratio = np.round(X.Age.isna().sum()/len(X.index)*100, decimals=1)\n",
    "print('결측치 비율 :', ratio,'%')"
   ]
  },
  {
   "cell_type": "markdown",
   "id": "d8144cec",
   "metadata": {
    "papermill": {
     "duration": 0.075974,
     "end_time": "2022-02-09T12:52:28.253538",
     "exception": false,
     "start_time": "2022-02-09T12:52:28.177564",
     "status": "completed"
    },
    "tags": []
   },
   "source": [
    "결측치가 많아서 드롭하면 정보 손실이 큼.  \n",
    "전체 평균으로 결측치를 채우고, 이후 스케일링을 적용함."
   ]
  },
  {
   "cell_type": "code",
   "execution_count": 17,
   "id": "20f5a36e",
   "metadata": {
    "execution": {
     "iopub.execute_input": "2022-02-09T12:52:28.411180Z",
     "iopub.status.busy": "2022-02-09T12:52:28.410169Z",
     "iopub.status.idle": "2022-02-09T12:52:28.418699Z",
     "shell.execute_reply": "2022-02-09T12:52:28.419210Z",
     "shell.execute_reply.started": "2022-02-08T11:42:25.834195Z"
    },
    "papermill": {
     "duration": 0.088795,
     "end_time": "2022-02-09T12:52:28.419387",
     "exception": false,
     "start_time": "2022-02-09T12:52:28.330592",
     "status": "completed"
    },
    "tags": []
   },
   "outputs": [
    {
     "name": "stderr",
     "output_type": "stream",
     "text": [
      "/tmp/ipykernel_3085817/3694875884.py:1: SettingWithCopyWarning: \n",
      "A value is trying to be set on a copy of a slice from a DataFrame\n",
      "\n",
      "See the caveats in the documentation: https://pandas.pydata.org/pandas-docs/stable/user_guide/indexing.html#returning-a-view-versus-a-copy\n",
      "  X.Age[X.Age.isna()] = X.Age.mean()\n"
     ]
    }
   ],
   "source": [
    "X.Age[X.Age.isna()] = X.Age.mean()"
   ]
  },
  {
   "cell_type": "markdown",
   "id": "f8afe801",
   "metadata": {
    "papermill": {
     "duration": 0.080471,
     "end_time": "2022-02-09T12:52:28.576567",
     "exception": false,
     "start_time": "2022-02-09T12:52:28.496096",
     "status": "completed"
    },
    "tags": []
   },
   "source": [
    "feature의 stastics 확인해서 표준화 진행 예정"
   ]
  },
  {
   "cell_type": "code",
   "execution_count": 18,
   "id": "888ad748",
   "metadata": {
    "execution": {
     "iopub.execute_input": "2022-02-09T12:52:28.735485Z",
     "iopub.status.busy": "2022-02-09T12:52:28.734766Z",
     "iopub.status.idle": "2022-02-09T12:52:28.746722Z",
     "shell.execute_reply": "2022-02-09T12:52:28.746037Z",
     "shell.execute_reply.started": "2022-02-08T11:42:25.847705Z"
    },
    "papermill": {
     "duration": 0.093179,
     "end_time": "2022-02-09T12:52:28.746871",
     "exception": false,
     "start_time": "2022-02-09T12:52:28.653692",
     "status": "completed"
    },
    "tags": []
   },
   "outputs": [
    {
     "data": {
      "text/plain": [
       "count    891.000000\n",
       "mean      29.699118\n",
       "std       13.002015\n",
       "min        0.420000\n",
       "25%       22.000000\n",
       "50%       29.699118\n",
       "75%       35.000000\n",
       "max       80.000000\n",
       "Name: Age, dtype: float64"
      ]
     },
     "execution_count": 18,
     "metadata": {},
     "output_type": "execute_result"
    }
   ],
   "source": [
    "X.Age.describe()"
   ]
  },
  {
   "cell_type": "markdown",
   "id": "d6e5b69c",
   "metadata": {
    "papermill": {
     "duration": 0.078419,
     "end_time": "2022-02-09T12:52:28.904856",
     "exception": false,
     "start_time": "2022-02-09T12:52:28.826437",
     "status": "completed"
    },
    "tags": []
   },
   "source": [
    "평균을 빼고 표준편차로 나누는 방식으로 스케일링하는 방식인 standardization(표준화) 진행"
   ]
  },
  {
   "cell_type": "code",
   "execution_count": 19,
   "id": "244d4956",
   "metadata": {
    "execution": {
     "iopub.execute_input": "2022-02-09T12:52:29.068072Z",
     "iopub.status.busy": "2022-02-09T12:52:29.067320Z",
     "iopub.status.idle": "2022-02-09T12:52:29.072105Z",
     "shell.execute_reply": "2022-02-09T12:52:29.072609Z",
     "shell.execute_reply.started": "2022-02-08T11:42:25.864834Z"
    },
    "papermill": {
     "duration": 0.088151,
     "end_time": "2022-02-09T12:52:29.072789",
     "exception": false,
     "start_time": "2022-02-09T12:52:28.984638",
     "status": "completed"
    },
    "tags": []
   },
   "outputs": [],
   "source": [
    "X.Age = (X.Age-X.Age.mean())/X.Age.std()"
   ]
  },
  {
   "cell_type": "markdown",
   "id": "2f9f26d8",
   "metadata": {
    "papermill": {
     "duration": 0.077516,
     "end_time": "2022-02-09T12:52:29.227790",
     "exception": false,
     "start_time": "2022-02-09T12:52:29.150274",
     "status": "completed"
    },
    "tags": []
   },
   "source": [
    "### SibSp (형제자매/배우자 수)"
   ]
  },
  {
   "cell_type": "code",
   "execution_count": 20,
   "id": "33718f55",
   "metadata": {
    "execution": {
     "iopub.execute_input": "2022-02-09T12:52:29.387970Z",
     "iopub.status.busy": "2022-02-09T12:52:29.387270Z",
     "iopub.status.idle": "2022-02-09T12:52:29.681043Z",
     "shell.execute_reply": "2022-02-09T12:52:29.681735Z",
     "shell.execute_reply.started": "2022-02-08T11:42:25.871356Z"
    },
    "papermill": {
     "duration": 0.376456,
     "end_time": "2022-02-09T12:52:29.681999",
     "exception": false,
     "start_time": "2022-02-09T12:52:29.305543",
     "status": "completed"
    },
    "tags": []
   },
   "outputs": [
    {
     "data": {
      "text/plain": [
       "<Axes: xlabel='SibSp', ylabel='count'>"
      ]
     },
     "execution_count": 20,
     "metadata": {},
     "output_type": "execute_result"
    },
    {
     "data": {
      "image/png": "[encoded data removed]",
      "text/plain": [
       "<Figure size 640x480 with 1 Axes>"
      ]
     },
     "metadata": {},
     "output_type": "display_data"
    }
   ],
   "source": [
    "sns.countplot(data=data,x='SibSp',hue=\"Survived\")"
   ]
  },
  {
   "cell_type": "code",
   "execution_count": 21,
   "id": "c7458bf6",
   "metadata": {
    "execution": {
     "iopub.execute_input": "2022-02-09T12:52:29.855968Z",
     "iopub.status.busy": "2022-02-09T12:52:29.855166Z",
     "iopub.status.idle": "2022-02-09T12:52:29.857936Z",
     "shell.execute_reply": "2022-02-09T12:52:29.858453Z",
     "shell.execute_reply.started": "2022-02-08T11:42:26.136761Z"
    },
    "papermill": {
     "duration": 0.092488,
     "end_time": "2022-02-09T12:52:29.858645",
     "exception": false,
     "start_time": "2022-02-09T12:52:29.766157",
     "status": "completed"
    },
    "tags": []
   },
   "outputs": [
    {
     "data": {
      "text/plain": [
       "SibSp\n",
       "0    608\n",
       "1    209\n",
       "2     28\n",
       "4     18\n",
       "3     16\n",
       "8      7\n",
       "5      5\n",
       "Name: count, dtype: int64"
      ]
     },
     "execution_count": 21,
     "metadata": {},
     "output_type": "execute_result"
    }
   ],
   "source": [
    "X.SibSp.value_counts()"
   ]
  },
  {
   "cell_type": "markdown",
   "id": "e70c1c50",
   "metadata": {
    "papermill": {
     "duration": 0.080462,
     "end_time": "2022-02-09T12:52:30.019170",
     "exception": false,
     "start_time": "2022-02-09T12:52:29.938708",
     "status": "completed"
    },
    "tags": []
   },
   "source": [
    "SibSp는 7개의 서로 다른 값을 가져서 one-hot encoding을 직접 하기엔 좋지 않아보임. \n"
   ]
  },
  {
   "cell_type": "code",
   "execution_count": 22,
   "id": "8bff24c7",
   "metadata": {
    "execution": {
     "iopub.execute_input": "2022-02-09T12:52:30.184676Z",
     "iopub.status.busy": "2022-02-09T12:52:30.184003Z",
     "iopub.status.idle": "2022-02-09T12:52:30.186538Z",
     "shell.execute_reply": "2022-02-09T12:52:30.187032Z",
     "shell.execute_reply.started": "2022-02-08T11:42:26.145375Z"
    },
    "papermill": {
     "duration": 0.087864,
     "end_time": "2022-02-09T12:52:30.187197",
     "exception": false,
     "start_time": "2022-02-09T12:52:30.099333",
     "status": "completed"
    },
    "tags": []
   },
   "outputs": [
    {
     "name": "stdout",
     "output_type": "stream",
     "text": [
      "SibSp column에서 2 이상의 비율 =  8.3 %\n"
     ]
    }
   ],
   "source": [
    "ratio = np.round((X.SibSp>1).sum()/len(X.index)*100,decimals=1)\n",
    "print(\"SibSp column에서 2 이상의 비율 = \",ratio,\"%\")"
   ]
  },
  {
   "cell_type": "markdown",
   "id": "62c98671",
   "metadata": {
    "papermill": {
     "duration": 0.079497,
     "end_time": "2022-02-09T12:52:30.347186",
     "exception": false,
     "start_time": "2022-02-09T12:52:30.267689",
     "status": "completed"
    },
    "tags": []
   },
   "source": [
    "대부분이 0~1이고, 2 이상은 적은 비율(8.3%)이기 때문에 값을 2 이상은 하나로 묶고 one-hot encoding을 진행."
   ]
  },
  {
   "cell_type": "code",
   "execution_count": 23,
   "id": "6e49d4b8",
   "metadata": {
    "execution": {
     "iopub.execute_input": "2022-02-09T12:52:30.511096Z",
     "iopub.status.busy": "2022-02-09T12:52:30.510265Z",
     "iopub.status.idle": "2022-02-09T12:52:30.515444Z",
     "shell.execute_reply": "2022-02-09T12:52:30.516016Z",
     "shell.execute_reply.started": "2022-02-08T11:42:26.157319Z"
    },
    "papermill": {
     "duration": 0.088345,
     "end_time": "2022-02-09T12:52:30.516194",
     "exception": false,
     "start_time": "2022-02-09T12:52:30.427849",
     "status": "completed"
    },
    "tags": []
   },
   "outputs": [],
   "source": [
    "X.SibSp.clip(upper=2,inplace=True)"
   ]
  },
  {
   "cell_type": "markdown",
   "id": "f5996a8b",
   "metadata": {
    "papermill": {
     "duration": 0.079765,
     "end_time": "2022-02-09T12:52:30.676732",
     "exception": false,
     "start_time": "2022-02-09T12:52:30.596967",
     "status": "completed"
    },
    "tags": []
   },
   "source": [
    "one-hot encoding 결과"
   ]
  },
  {
   "cell_type": "code",
   "execution_count": 24,
   "id": "af55f8ca",
   "metadata": {
    "execution": {
     "iopub.execute_input": "2022-02-09T12:52:30.844685Z",
     "iopub.status.busy": "2022-02-09T12:52:30.843927Z",
     "iopub.status.idle": "2022-02-09T12:52:30.852808Z",
     "shell.execute_reply": "2022-02-09T12:52:30.853424Z",
     "shell.execute_reply.started": "2022-02-08T11:42:26.168063Z"
    },
    "papermill": {
     "duration": 0.093305,
     "end_time": "2022-02-09T12:52:30.853626",
     "exception": false,
     "start_time": "2022-02-09T12:52:30.760321",
     "status": "completed"
    },
    "tags": []
   },
   "outputs": [],
   "source": [
    "oh= pd.get_dummies(X.SibSp,prefix=\"SibSp\")\n",
    "X = X.drop(labels='SibSp',axis=1).join(oh)"
   ]
  },
  {
   "cell_type": "code",
   "execution_count": 25,
   "id": "42c1acb9",
   "metadata": {},
   "outputs": [
    {
     "data": {
      "text/plain": [
       "PassengerId\n",
       "1      False\n",
       "2      False\n",
       "3       True\n",
       "4      False\n",
       "5       True\n",
       "       ...  \n",
       "887     True\n",
       "888     True\n",
       "889    False\n",
       "890     True\n",
       "891     True\n",
       "Name: SibSp_0, Length: 891, dtype: bool"
      ]
     },
     "execution_count": 25,
     "metadata": {},
     "output_type": "execute_result"
    }
   ],
   "source": [
    "X['SibSp_0']"
   ]
  },
  {
   "cell_type": "markdown",
   "id": "61fd3d58",
   "metadata": {
    "papermill": {
     "duration": 0.080886,
     "end_time": "2022-02-09T12:52:31.014965",
     "exception": false,
     "start_time": "2022-02-09T12:52:30.934079",
     "status": "completed"
    },
    "tags": []
   },
   "source": [
    "### Parch (부모/자녀 수)"
   ]
  },
  {
   "cell_type": "code",
   "execution_count": 26,
   "id": "e472bf09",
   "metadata": {
    "execution": {
     "iopub.execute_input": "2022-02-09T12:52:31.181791Z",
     "iopub.status.busy": "2022-02-09T12:52:31.181098Z",
     "iopub.status.idle": "2022-02-09T12:52:31.455974Z",
     "shell.execute_reply": "2022-02-09T12:52:31.456455Z",
     "shell.execute_reply.started": "2022-02-08T11:42:26.184835Z"
    },
    "papermill": {
     "duration": 0.358912,
     "end_time": "2022-02-09T12:52:31.456664",
     "exception": false,
     "start_time": "2022-02-09T12:52:31.097752",
     "status": "completed"
    },
    "tags": []
   },
   "outputs": [
    {
     "data": {
      "text/plain": [
       "<Axes: xlabel='Parch', ylabel='count'>"
      ]
     },
     "execution_count": 26,
     "metadata": {},
     "output_type": "execute_result"
    },
    {
     "data": {
      "image/png": "[encoded data removed]",
      "text/plain": [
       "<Figure size 640x480 with 1 Axes>"
      ]
     },
     "metadata": {},
     "output_type": "display_data"
    }
   ],
   "source": [
    "sns.countplot(data=data,x='Parch',hue=\"Survived\")"
   ]
  },
  {
   "cell_type": "code",
   "execution_count": 27,
   "id": "61b853bb",
   "metadata": {
    "execution": {
     "iopub.execute_input": "2022-02-09T12:52:31.667990Z",
     "iopub.status.busy": "2022-02-09T12:52:31.667219Z",
     "iopub.status.idle": "2022-02-09T12:52:31.675933Z",
     "shell.execute_reply": "2022-02-09T12:52:31.676948Z",
     "shell.execute_reply.started": "2022-02-08T11:42:26.421055Z"
    },
    "papermill": {
     "duration": 0.134803,
     "end_time": "2022-02-09T12:52:31.677235",
     "exception": false,
     "start_time": "2022-02-09T12:52:31.542432",
     "status": "completed"
    },
    "tags": []
   },
   "outputs": [
    {
     "data": {
      "text/plain": [
       "Parch\n",
       "0    678\n",
       "1    118\n",
       "2     80\n",
       "5      5\n",
       "3      5\n",
       "4      4\n",
       "6      1\n",
       "Name: count, dtype: int64"
      ]
     },
     "execution_count": 27,
     "metadata": {},
     "output_type": "execute_result"
    }
   ],
   "source": [
    "X.Parch.value_counts()"
   ]
  },
  {
   "cell_type": "markdown",
   "id": "0434c6fa",
   "metadata": {
    "papermill": {
     "duration": 0.080426,
     "end_time": "2022-02-09T12:52:31.845931",
     "exception": false,
     "start_time": "2022-02-09T12:52:31.765505",
     "status": "completed"
    },
    "tags": []
   },
   "source": [
    "SibSp와 마찬가지로 2 이상을 하나의 category로 처리하고 one-hot encoding.\n"
   ]
  },
  {
   "cell_type": "code",
   "execution_count": 28,
   "id": "910e3cfe",
   "metadata": {
    "execution": {
     "iopub.execute_input": "2022-02-09T12:52:32.017550Z",
     "iopub.status.busy": "2022-02-09T12:52:32.016745Z",
     "iopub.status.idle": "2022-02-09T12:52:32.028398Z",
     "shell.execute_reply": "2022-02-09T12:52:32.027740Z",
     "shell.execute_reply.started": "2022-02-08T11:42:26.430194Z"
    },
    "papermill": {
     "duration": 0.100814,
     "end_time": "2022-02-09T12:52:32.028665",
     "exception": false,
     "start_time": "2022-02-09T12:52:31.927851",
     "status": "completed"
    },
    "tags": []
   },
   "outputs": [],
   "source": [
    "X.Parch.clip(upper=2,inplace=True)\n",
    "oh= pd.get_dummies(X.Parch,prefix=\"Parch\")\n",
    "X = X.drop(labels='Parch',axis=1).join(oh)"
   ]
  },
  {
   "cell_type": "markdown",
   "id": "64872754",
   "metadata": {},
   "source": [
    "### FamilySize (가족 크기 변수 생성)\n",
    "Derived Variable(파생 변수)\n",
    ">형제자매/배우자 수(SibSp)와 부모/자녀 수(Parch)를 합치고 자기 자신을 더해서 `FamilySize`라는 파생 변수를 만듦  \n",
    ">\n",
    ">가족과 함께 탑승했는지 여부가 생존에 영향을 줄 수 있으므로 추가"
   ]
  },
  {
   "cell_type": "code",
   "execution_count": 29,
   "id": "13ca7480",
   "metadata": {},
   "outputs": [
    {
     "data": {
      "text/plain": [
       "PassengerId\n",
       "1    2.0\n",
       "2    2.0\n",
       "3    1.0\n",
       "4    2.0\n",
       "5    1.0\n",
       "Name: FamilySize, dtype: float64"
      ]
     },
     "execution_count": 29,
     "metadata": {},
     "output_type": "execute_result"
    }
   ],
   "source": [
    "# FamilySize 파생 변수 생성\n",
    "# SibSp와 Parch가 이미 원-핫 인코딩되어 있기 때문에 각각의 값을 곱해서 다시 합산해줌\n",
    "X[\"FamilySize\"] = (\n",
    "    X.get(\"SibSp_1\", 0) * 1 + X.get(\"SibSp_2\", 0) * 2 +\n",
    "    X.get(\"Parch_1\", 0) * 1 + X.get(\"Parch_2\", 0) * 2 + 1\n",
    ")\n",
    "X[\"FamilySize\"] = X[\"FamilySize\"].astype(float)  # 나중에 Tensor 변환 등을 고려하여 float 형변환\n",
    "X[\"FamilySize\"].head()"
   ]
  },
  {
   "cell_type": "markdown",
   "id": "70fcefc8",
   "metadata": {
    "papermill": {
     "duration": 0.085811,
     "end_time": "2022-02-09T12:52:32.196071",
     "exception": false,
     "start_time": "2022-02-09T12:52:32.110260",
     "status": "completed"
    },
    "tags": []
   },
   "source": [
    "### Ticket (티켓 번호)"
   ]
  },
  {
   "cell_type": "markdown",
   "id": "ee4a4d21",
   "metadata": {
    "execution": {
     "iopub.execute_input": "2022-02-07T14:41:23.622825Z",
     "iopub.status.busy": "2022-02-07T14:41:23.622515Z",
     "iopub.status.idle": "2022-02-07T14:41:23.630559Z",
     "shell.execute_reply": "2022-02-07T14:41:23.629909Z",
     "shell.execute_reply.started": "2022-02-07T14:41:23.622793Z"
    },
    "papermill": {
     "duration": 0.081549,
     "end_time": "2022-02-09T12:52:32.358638",
     "exception": false,
     "start_time": "2022-02-09T12:52:32.277089",
     "status": "completed"
    },
    "tags": []
   },
   "source": [
    ">의미 있는 정보 추출이 어렵고 중복도 많아서 과감히 제거!"
   ]
  },
  {
   "cell_type": "code",
   "execution_count": 30,
   "id": "0369235c",
   "metadata": {
    "_kg_hide-output": true,
    "execution": {
     "iopub.execute_input": "2022-02-09T12:52:32.527870Z",
     "iopub.status.busy": "2022-02-09T12:52:32.526400Z",
     "iopub.status.idle": "2022-02-09T12:52:32.530660Z",
     "shell.execute_reply": "2022-02-09T12:52:32.530050Z",
     "shell.execute_reply.started": "2022-02-08T11:42:26.445741Z"
    },
    "papermill": {
     "duration": 0.091167,
     "end_time": "2022-02-09T12:52:32.530827",
     "exception": false,
     "start_time": "2022-02-09T12:52:32.439660",
     "status": "completed"
    },
    "tags": []
   },
   "outputs": [],
   "source": [
    "X.drop(labels='Ticket',axis=1,inplace=True)"
   ]
  },
  {
   "cell_type": "markdown",
   "id": "06bc82aa",
   "metadata": {
    "papermill": {
     "duration": 0.081524,
     "end_time": "2022-02-09T12:52:32.694146",
     "exception": false,
     "start_time": "2022-02-09T12:52:32.612622",
     "status": "completed"
    },
    "tags": []
   },
   "source": [
    "### Fare (요금)"
   ]
  },
  {
   "cell_type": "code",
   "execution_count": 31,
   "id": "ca5c9cf9",
   "metadata": {
    "execution": {
     "iopub.execute_input": "2022-02-09T12:52:32.863765Z",
     "iopub.status.busy": "2022-02-09T12:52:32.862998Z",
     "iopub.status.idle": "2022-02-09T12:52:33.140111Z",
     "shell.execute_reply": "2022-02-09T12:52:33.139547Z",
     "shell.execute_reply.started": "2022-02-08T11:42:26.45176Z"
    },
    "papermill": {
     "duration": 0.362686,
     "end_time": "2022-02-09T12:52:33.140283",
     "exception": false,
     "start_time": "2022-02-09T12:52:32.777597",
     "status": "completed"
    },
    "tags": []
   },
   "outputs": [
    {
     "name": "stderr",
     "output_type": "stream",
     "text": [
      "/tmp/ipykernel_3085817/441118664.py:1: FutureWarning: \n",
      "\n",
      "`shade` is now deprecated in favor of `fill`; setting `fill=True`.\n",
      "This will become an error in seaborn v0.14.0; please update your code.\n",
      "\n",
      "  sns.kdeplot(data=data,x='Fare', shade=True,hue=\"Survived\")\n"
     ]
    },
    {
     "data": {
      "text/plain": [
       "<Axes: xlabel='Fare', ylabel='Density'>"
      ]
     },
     "execution_count": 31,
     "metadata": {},
     "output_type": "execute_result"
    },
    {
     "data": {
      "image/png": "[encoded data removed]",
      "text/plain": [
       "<Figure size 640x480 with 1 Axes>"
      ]
     },
     "metadata": {},
     "output_type": "display_data"
    }
   ],
   "source": [
    "sns.kdeplot(data=data,x='Fare', shade=True,hue=\"Survived\")"
   ]
  },
  {
   "cell_type": "markdown",
   "id": "e4d7df26",
   "metadata": {},
   "source": [
    "분포가 한쪽으로 치우쳐 있어 평균과 표준편차로 정규화(or 표준화)가 필요해 보임."
   ]
  },
  {
   "cell_type": "code",
   "execution_count": 32,
   "id": "7b17a76f",
   "metadata": {
    "execution": {
     "iopub.execute_input": "2022-02-09T12:52:33.310156Z",
     "iopub.status.busy": "2022-02-09T12:52:33.309324Z",
     "iopub.status.idle": "2022-02-09T12:52:33.318575Z",
     "shell.execute_reply": "2022-02-09T12:52:33.319092Z",
     "shell.execute_reply.started": "2022-02-08T11:42:26.699371Z"
    },
    "papermill": {
     "duration": 0.095575,
     "end_time": "2022-02-09T12:52:33.319263",
     "exception": false,
     "start_time": "2022-02-09T12:52:33.223688",
     "status": "completed"
    },
    "tags": []
   },
   "outputs": [
    {
     "data": {
      "text/plain": [
       "count    891.000000\n",
       "mean      32.204208\n",
       "std       49.693429\n",
       "min        0.000000\n",
       "25%        7.910400\n",
       "50%       14.454200\n",
       "75%       31.000000\n",
       "max      512.329200\n",
       "Name: Fare, dtype: float64"
      ]
     },
     "execution_count": 32,
     "metadata": {},
     "output_type": "execute_result"
    }
   ],
   "source": [
    "X.Fare.describe()"
   ]
  },
  {
   "cell_type": "markdown",
   "id": "b2914dc0",
   "metadata": {
    "papermill": {
     "duration": 0.081844,
     "end_time": "2022-02-09T12:52:33.484766",
     "exception": false,
     "start_time": "2022-02-09T12:52:33.402922",
     "status": "completed"
    },
    "tags": []
   },
   "source": [
    "Standardization 진행\n",
    "* 평균을 빼고 표준편차로 나누는 방식으로 스케일링. "
   ]
  },
  {
   "cell_type": "code",
   "execution_count": 33,
   "id": "ef5b9c56",
   "metadata": {
    "execution": {
     "iopub.execute_input": "2022-02-09T12:52:33.652726Z",
     "iopub.status.busy": "2022-02-09T12:52:33.651968Z",
     "iopub.status.idle": "2022-02-09T12:52:33.656638Z",
     "shell.execute_reply": "2022-02-09T12:52:33.657242Z",
     "shell.execute_reply.started": "2022-02-08T11:42:26.710288Z"
    },
    "papermill": {
     "duration": 0.09048,
     "end_time": "2022-02-09T12:52:33.657420",
     "exception": false,
     "start_time": "2022-02-09T12:52:33.566940",
     "status": "completed"
    },
    "tags": []
   },
   "outputs": [],
   "source": [
    "X.Fare = (X.Fare-X.Fare.mean())/X.Fare.std()"
   ]
  },
  {
   "cell_type": "markdown",
   "id": "9a0560f5",
   "metadata": {
    "papermill": {
     "duration": 0.081905,
     "end_time": "2022-02-09T12:52:33.821605",
     "exception": false,
     "start_time": "2022-02-09T12:52:33.739700",
     "status": "completed"
    },
    "tags": []
   },
   "source": [
    "### Cabin (객실 번호)"
   ]
  },
  {
   "cell_type": "markdown",
   "id": "6ec0acf0",
   "metadata": {
    "papermill": {
     "duration": 0.086066,
     "end_time": "2022-02-09T12:52:33.992091",
     "exception": false,
     "start_time": "2022-02-09T12:52:33.906025",
     "status": "completed"
    },
    "tags": []
   },
   "source": [
    "결측치가 많지만, 존재 여부나 앞 문자 등은 정보가 될 수 있어서 전처리 후 유의미한 값만 남김.\n",
    "* 결측치를 'U'로 대체해서 보자"
   ]
  },
  {
   "cell_type": "code",
   "execution_count": 34,
   "id": "795c40f5",
   "metadata": {
    "execution": {
     "iopub.execute_input": "2022-02-09T12:52:34.361624Z",
     "iopub.status.busy": "2022-02-09T12:52:34.360791Z",
     "iopub.status.idle": "2022-02-09T12:52:34.363768Z",
     "shell.execute_reply": "2022-02-09T12:52:34.364522Z",
     "shell.execute_reply.started": "2022-02-08T11:42:26.723193Z"
    },
    "papermill": {
     "duration": 0.103134,
     "end_time": "2022-02-09T12:52:34.364765",
     "exception": false,
     "start_time": "2022-02-09T12:52:34.261631",
     "status": "completed"
    },
    "tags": []
   },
   "outputs": [
    {
     "name": "stderr",
     "output_type": "stream",
     "text": [
      "/tmp/ipykernel_3085817/1686841740.py:1: SettingWithCopyWarning: \n",
      "A value is trying to be set on a copy of a slice from a DataFrame\n",
      "\n",
      "See the caveats in the documentation: https://pandas.pydata.org/pandas-docs/stable/user_guide/indexing.html#returning-a-view-versus-a-copy\n",
      "  X.Cabin[X.Cabin.isna()]='U'\n"
     ]
    }
   ],
   "source": [
    "X.Cabin[X.Cabin.isna()]='U'"
   ]
  },
  {
   "cell_type": "code",
   "execution_count": 35,
   "id": "e9ae4ef1",
   "metadata": {
    "execution": {
     "iopub.execute_input": "2022-02-09T12:52:34.730192Z",
     "iopub.status.busy": "2022-02-09T12:52:34.729223Z",
     "iopub.status.idle": "2022-02-09T12:52:34.738679Z",
     "shell.execute_reply": "2022-02-09T12:52:34.739245Z",
     "shell.execute_reply.started": "2022-02-08T11:42:26.735607Z"
    },
    "papermill": {
     "duration": 0.104416,
     "end_time": "2022-02-09T12:52:34.739430",
     "exception": false,
     "start_time": "2022-02-09T12:52:34.635014",
     "status": "completed"
    },
    "tags": []
   },
   "outputs": [
    {
     "data": {
      "text/plain": [
       "Cabin\n",
       "U    687\n",
       "C     59\n",
       "B     47\n",
       "D     33\n",
       "E     32\n",
       "A     15\n",
       "F     13\n",
       "G      4\n",
       "T      1\n",
       "Name: count, dtype: int64"
      ]
     },
     "execution_count": 35,
     "metadata": {},
     "output_type": "execute_result"
    }
   ],
   "source": [
    "X.Cabin=X.Cabin.str[0] #select the first letter\n",
    "X.Cabin.value_counts() #print the statistics"
   ]
  },
  {
   "cell_type": "code",
   "execution_count": 36,
   "id": "17a37d93",
   "metadata": {
    "execution": {
     "iopub.execute_input": "2022-02-09T12:52:34.918087Z",
     "iopub.status.busy": "2022-02-09T12:52:34.917361Z",
     "iopub.status.idle": "2022-02-09T12:52:35.239818Z",
     "shell.execute_reply": "2022-02-09T12:52:35.239245Z",
     "shell.execute_reply.started": "2022-02-08T11:42:26.750175Z"
    },
    "papermill": {
     "duration": 0.414129,
     "end_time": "2022-02-09T12:52:35.239979",
     "exception": false,
     "start_time": "2022-02-09T12:52:34.825850",
     "status": "completed"
    },
    "tags": []
   },
   "outputs": [
    {
     "data": {
      "text/plain": [
       "<Axes: xlabel='Cabin', ylabel='count'>"
      ]
     },
     "execution_count": 36,
     "metadata": {},
     "output_type": "execute_result"
    },
    {
     "data": {
      "image/png": "[encoded data removed]",
      "text/plain": [
       "<Figure size 640x480 with 1 Axes>"
      ]
     },
     "metadata": {},
     "output_type": "display_data"
    }
   ],
   "source": [
    "sns.countplot(data=data,x=X.Cabin,hue=\"Survived\")"
   ]
  },
  {
   "cell_type": "markdown",
   "id": "b14cb690",
   "metadata": {
    "papermill": {
     "duration": 0.089521,
     "end_time": "2022-02-09T12:52:35.418615",
     "exception": false,
     "start_time": "2022-02-09T12:52:35.329094",
     "status": "completed"
    },
    "tags": []
   },
   "source": [
    "각 Cabin에 대해 Chi2 독립성 검정을 진행\n",
    "* Cabin이라는 변수가 생존률(y)과 독립적인지(무관한지)를 통계적으로 검증\n",
    "* 즉, 예측에 영향을 주는 변수인지 아닌지 보기 위해 검증"
   ]
  },
  {
   "cell_type": "code",
   "execution_count": 37,
   "id": "aa769e41",
   "metadata": {
    "execution": {
     "iopub.execute_input": "2022-02-09T12:52:35.608910Z",
     "iopub.status.busy": "2022-02-09T12:52:35.608160Z",
     "iopub.status.idle": "2022-02-09T12:52:35.737672Z",
     "shell.execute_reply": "2022-02-09T12:52:35.738806Z",
     "shell.execute_reply.started": "2022-02-08T11:42:27.024755Z"
    },
    "papermill": {
     "duration": 0.228548,
     "end_time": "2022-02-09T12:52:35.739235",
     "exception": false,
     "start_time": "2022-02-09T12:52:35.510687",
     "status": "completed"
    },
    "tags": []
   },
   "outputs": [
    {
     "name": "stdout",
     "output_type": "stream",
     "text": [
      "Chi2 test for the independence of Cabin =  U . p-value = 0.0 %\n",
      "Chi2 test for the independence of Cabin =  C . p-value = 0.102 %\n",
      "Chi2 test for the independence of Cabin =  E . p-value = 0.003 %\n",
      "Chi2 test for the independence of Cabin =  G . p-value = 100.0 %\n",
      "Chi2 test for the independence of Cabin =  D . p-value = 0.002 %\n",
      "Chi2 test for the independence of Cabin =  A . p-value = 69.098 %\n",
      "Chi2 test for the independence of Cabin =  B . p-value = 0.0 %\n",
      "Chi2 test for the independence of Cabin =  F . p-value = 14.928 %\n",
      "Chi2 test for the independence of Cabin =  T . p-value = 100.0 %\n"
     ]
    }
   ],
   "source": [
    "from scipy.stats import chi2_contingency\n",
    "for letter in X.Cabin.unique():\n",
    "    cab_binary = X.Cabin==letter\n",
    "    contigency = pd.crosstab(cab_binary, y) \n",
    "    c, p, dof, expected = chi2_contingency(contigency)\n",
    "    p = np.round(p*100,decimals=3)\n",
    "    print('Chi2 test for the independence of Cabin = ',letter,'. p-value =',p,\"%\")\n",
    "    "
   ]
  },
  {
   "cell_type": "markdown",
   "id": "fec6af5c",
   "metadata": {
    "papermill": {
     "duration": 0.087279,
     "end_time": "2022-02-09T12:52:35.918463",
     "exception": false,
     "start_time": "2022-02-09T12:52:35.831184",
     "status": "completed"
    },
    "tags": []
   },
   "source": [
    "Cabin의 statistic과 plot을 통해 U가 결측치를 나타내는 가장 중요한 정보임을 알 수 있음\n",
    "\n",
    "one-encoding을 진행하되 p-value가 낮은 G, A, F, T는 제거해서 진행"
   ]
  },
  {
   "cell_type": "code",
   "execution_count": 38,
   "id": "66698973",
   "metadata": {
    "execution": {
     "iopub.execute_input": "2022-02-09T12:52:36.118040Z",
     "iopub.status.busy": "2022-02-09T12:52:36.117113Z",
     "iopub.status.idle": "2022-02-09T12:52:36.121249Z",
     "shell.execute_reply": "2022-02-09T12:52:36.120498Z",
     "shell.execute_reply.started": "2022-02-08T11:42:27.127129Z"
    },
    "papermill": {
     "duration": 0.111251,
     "end_time": "2022-02-09T12:52:36.121412",
     "exception": false,
     "start_time": "2022-02-09T12:52:36.010161",
     "status": "completed"
    },
    "tags": []
   },
   "outputs": [],
   "source": [
    "oh = pd.get_dummies(X.Cabin,prefix=\"Cabin\")\n",
    "categories_to_drop = ['Cabin_'+i for i in ['G','A','F','T']]\n",
    "oh = oh.drop(labels = categories_to_drop, axis = 1) \n",
    "\n",
    "X = X.drop(labels='Cabin',axis=1).join(oh)"
   ]
  },
  {
   "cell_type": "markdown",
   "id": "b8cfa371",
   "metadata": {
    "papermill": {
     "duration": 0.089487,
     "end_time": "2022-02-09T12:52:36.304331",
     "exception": false,
     "start_time": "2022-02-09T12:52:36.214844",
     "status": "completed"
    },
    "tags": []
   },
   "source": [
    "### Embarked (탑승 항구)"
   ]
  },
  {
   "cell_type": "code",
   "execution_count": 39,
   "id": "08f1f39b",
   "metadata": {
    "execution": {
     "iopub.execute_input": "2022-02-09T12:52:36.518784Z",
     "iopub.status.busy": "2022-02-09T12:52:36.495667Z",
     "iopub.status.idle": "2022-02-09T12:52:36.750331Z",
     "shell.execute_reply": "2022-02-09T12:52:36.749682Z",
     "shell.execute_reply.started": "2022-02-08T11:42:27.141217Z"
    },
    "papermill": {
     "duration": 0.355768,
     "end_time": "2022-02-09T12:52:36.750529",
     "exception": false,
     "start_time": "2022-02-09T12:52:36.394761",
     "status": "completed"
    },
    "tags": []
   },
   "outputs": [
    {
     "data": {
      "text/plain": [
       "<Axes: xlabel='Embarked', ylabel='count'>"
      ]
     },
     "execution_count": 39,
     "metadata": {},
     "output_type": "execute_result"
    },
    {
     "data": {
      "image/png": "[encoded data removed]",
      "text/plain": [
       "<Figure size 640x480 with 1 Axes>"
      ]
     },
     "metadata": {},
     "output_type": "display_data"
    }
   ],
   "source": [
    "sns.countplot(data=data,x='Embarked',hue=\"Survived\")"
   ]
  },
  {
   "cell_type": "code",
   "execution_count": 40,
   "id": "e9dcd6d5",
   "metadata": {
    "execution": {
     "iopub.execute_input": "2022-02-09T12:52:36.953503Z",
     "iopub.status.busy": "2022-02-09T12:52:36.952505Z",
     "iopub.status.idle": "2022-02-09T12:52:36.957660Z",
     "shell.execute_reply": "2022-02-09T12:52:36.956794Z",
     "shell.execute_reply.started": "2022-02-08T11:42:27.357437Z"
    },
    "papermill": {
     "duration": 0.108119,
     "end_time": "2022-02-09T12:52:36.957848",
     "exception": false,
     "start_time": "2022-02-09T12:52:36.849729",
     "status": "completed"
    },
    "tags": []
   },
   "outputs": [
    {
     "data": {
      "text/plain": [
       "Embarked\n",
       "S    644\n",
       "C    168\n",
       "Q     77\n",
       "Name: count, dtype: int64"
      ]
     },
     "execution_count": 40,
     "metadata": {},
     "output_type": "execute_result"
    }
   ],
   "source": [
    "X.Embarked.value_counts()"
   ]
  },
  {
   "cell_type": "markdown",
   "id": "ec4084ba",
   "metadata": {
    "papermill": {
     "duration": 0.095441,
     "end_time": "2022-02-09T12:52:37.146846",
     "exception": false,
     "start_time": "2022-02-09T12:52:37.051405",
     "status": "completed"
    },
    "tags": []
   },
   "source": [
    "결측치는 최빈값으로 채우고 one-hot encoding."
   ]
  },
  {
   "cell_type": "code",
   "execution_count": 41,
   "id": "186044e5",
   "metadata": {
    "execution": {
     "iopub.execute_input": "2022-02-09T12:52:37.338036Z",
     "iopub.status.busy": "2022-02-09T12:52:37.337291Z",
     "iopub.status.idle": "2022-02-09T12:52:37.344140Z",
     "shell.execute_reply": "2022-02-09T12:52:37.343454Z",
     "shell.execute_reply.started": "2022-02-08T11:42:27.366282Z"
    },
    "papermill": {
     "duration": 0.103201,
     "end_time": "2022-02-09T12:52:37.344287",
     "exception": false,
     "start_time": "2022-02-09T12:52:37.241086",
     "status": "completed"
    },
    "tags": []
   },
   "outputs": [],
   "source": [
    "oh= pd.get_dummies(X.Embarked,prefix=\"Embarked\")\n",
    "X = X.drop(labels='Embarked',axis=1).join(oh)"
   ]
  },
  {
   "cell_type": "markdown",
   "id": "fed928e5",
   "metadata": {
    "papermill": {
     "duration": 0.088108,
     "end_time": "2022-02-09T12:52:37.526994",
     "exception": false,
     "start_time": "2022-02-09T12:52:37.438886",
     "status": "completed"
    },
    "tags": []
   },
   "source": [
    "## feature engineering Summary"
   ]
  },
  {
   "cell_type": "code",
   "execution_count": null,
   "id": "12d76d82",
   "metadata": {
    "execution": {
     "iopub.execute_input": "2022-02-09T12:52:37.713872Z",
     "iopub.status.busy": "2022-02-09T12:52:37.713091Z",
     "iopub.status.idle": "2022-02-09T12:52:37.725011Z",
     "shell.execute_reply": "2022-02-09T12:52:37.725859Z",
     "shell.execute_reply.started": "2022-02-08T11:42:27.380306Z"
    },
    "papermill": {
     "duration": 0.109207,
     "end_time": "2022-02-09T12:52:37.726145",
     "exception": false,
     "start_time": "2022-02-09T12:52:37.616938",
     "status": "completed"
    },
    "tags": []
   },
   "outputs": [
    {
     "name": "stdout",
     "output_type": "stream",
     "text": [
      "<class 'pandas.core.frame.DataFrame'>\n",
      "Index: 891 entries, 1 to 891\n",
      "Data columns (total 26 columns):\n",
      " #   Column        Non-Null Count  Dtype  \n",
      "---  ------        --------------  -----  \n",
      " 0   Sex           891 non-null    uint8  \n",
      " 1   Age           891 non-null    float64\n",
      " 2   Fare          891 non-null    float64\n",
      " 3   Pclass_1      891 non-null    bool   \n",
      " 4   Pclass_2      891 non-null    bool   \n",
      " 5   Pclass_3      891 non-null    bool   \n",
      " 6   Title_Master  891 non-null    bool   \n",
      " 7   Title_Miss    891 non-null    bool   \n",
      " 8   Title_Mr      891 non-null    bool   \n",
      " 9   Title_Mrs     891 non-null    bool   \n",
      " 10  Title_Rare    891 non-null    bool   \n",
      " 11  SibSp_0       891 non-null    bool   \n",
      " 12  SibSp_1       891 non-null    bool   \n",
      " 13  SibSp_2       891 non-null    bool   \n",
      " 14  Parch_0       891 non-null    bool   \n",
      " 15  Parch_1       891 non-null    bool   \n",
      " 16  Parch_2       891 non-null    bool   \n",
      " 17  FamilySize    891 non-null    float64\n",
      " 18  Cabin_B       891 non-null    bool   \n",
      " 19  Cabin_C       891 non-null    bool   \n",
      " 20  Cabin_D       891 non-null    bool   \n",
      " 21  Cabin_E       891 non-null    bool   \n",
      " 22  Cabin_U       891 non-null    bool   \n",
      " 23  Embarked_C    891 non-null    bool   \n",
      " 24  Embarked_Q    891 non-null    bool   \n",
      " 25  Embarked_S    891 non-null    bool   \n",
      "dtypes: bool(22), float64(3), uint8(1)\n",
      "memory usage: 80.1 KB\n"
     ]
    }
   ],
   "source": [
    "X.info()"
   ]
  },
  {
   "cell_type": "code",
   "execution_count": 43,
   "id": "64b998a0",
   "metadata": {
    "execution": {
     "iopub.execute_input": "2022-02-09T12:52:37.925410Z",
     "iopub.status.busy": "2022-02-09T12:52:37.924618Z",
     "iopub.status.idle": "2022-02-09T12:52:37.970886Z",
     "shell.execute_reply": "2022-02-09T12:52:37.971499Z",
     "shell.execute_reply.started": "2022-02-08T11:42:27.395969Z"
    },
    "papermill": {
     "duration": 0.150928,
     "end_time": "2022-02-09T12:52:37.971770",
     "exception": false,
     "start_time": "2022-02-09T12:52:37.820842",
     "status": "completed"
    },
    "tags": []
   },
   "outputs": [
    {
     "data": {
      "text/html": [
       "<div>\n",
       "<style scoped>\n",
       "    .dataframe tbody tr th:only-of-type {\n",
       "        vertical-align: middle;\n",
       "    }\n",
       "\n",
       "    .dataframe tbody tr th {\n",
       "        vertical-align: top;\n",
       "    }\n",
       "\n",
       "    .dataframe thead th {\n",
       "        text-align: right;\n",
       "    }\n",
       "</style>\n",
       "<table border=\"1\" class=\"dataframe\">\n",
       "  <thead>\n",
       "    <tr style=\"text-align: right;\">\n",
       "      <th></th>\n",
       "      <th>Sex</th>\n",
       "      <th>Age</th>\n",
       "      <th>Fare</th>\n",
       "      <th>Pclass_1</th>\n",
       "      <th>Pclass_2</th>\n",
       "      <th>Pclass_3</th>\n",
       "      <th>Title_Master</th>\n",
       "      <th>Title_Miss</th>\n",
       "      <th>Title_Mr</th>\n",
       "      <th>Title_Mrs</th>\n",
       "      <th>...</th>\n",
       "      <th>Parch_2</th>\n",
       "      <th>FamilySize</th>\n",
       "      <th>Cabin_B</th>\n",
       "      <th>Cabin_C</th>\n",
       "      <th>Cabin_D</th>\n",
       "      <th>Cabin_E</th>\n",
       "      <th>Cabin_U</th>\n",
       "      <th>Embarked_C</th>\n",
       "      <th>Embarked_Q</th>\n",
       "      <th>Embarked_S</th>\n",
       "    </tr>\n",
       "  </thead>\n",
       "  <tbody>\n",
       "    <tr>\n",
       "      <th>Sex</th>\n",
       "      <td>1.000000</td>\n",
       "      <td>-0.084153</td>\n",
       "      <td>0.182333</td>\n",
       "      <td>0.098013</td>\n",
       "      <td>0.064746</td>\n",
       "      <td>-0.137143</td>\n",
       "      <td>-0.159934</td>\n",
       "      <td>0.693916</td>\n",
       "      <td>-0.867334</td>\n",
       "      <td>0.550146</td>\n",
       "      <td>...</td>\n",
       "      <td>0.201880</td>\n",
       "      <td>0.253826</td>\n",
       "      <td>0.109689</td>\n",
       "      <td>0.058649</td>\n",
       "      <td>0.079248</td>\n",
       "      <td>0.047003</td>\n",
       "      <td>-0.140391</td>\n",
       "      <td>0.082853</td>\n",
       "      <td>0.074115</td>\n",
       "      <td>-0.125722</td>\n",
       "    </tr>\n",
       "    <tr>\n",
       "      <th>Age</th>\n",
       "      <td>-0.084153</td>\n",
       "      <td>1.000000</td>\n",
       "      <td>0.091566</td>\n",
       "      <td>0.319916</td>\n",
       "      <td>0.006589</td>\n",
       "      <td>-0.281004</td>\n",
       "      <td>-0.377265</td>\n",
       "      <td>-0.249169</td>\n",
       "      <td>0.185900</td>\n",
       "      <td>0.164533</td>\n",
       "      <td>...</td>\n",
       "      <td>-0.199046</td>\n",
       "      <td>-0.286577</td>\n",
       "      <td>0.091394</td>\n",
       "      <td>0.113149</td>\n",
       "      <td>0.132319</td>\n",
       "      <td>0.117211</td>\n",
       "      <td>-0.233123</td>\n",
       "      <td>0.032024</td>\n",
       "      <td>-0.013855</td>\n",
       "      <td>-0.027121</td>\n",
       "    </tr>\n",
       "    <tr>\n",
       "      <th>Fare</th>\n",
       "      <td>0.182333</td>\n",
       "      <td>0.091566</td>\n",
       "      <td>1.000000</td>\n",
       "      <td>0.591711</td>\n",
       "      <td>-0.118557</td>\n",
       "      <td>-0.413333</td>\n",
       "      <td>0.010908</td>\n",
       "      <td>0.119518</td>\n",
       "      <td>-0.183766</td>\n",
       "      <td>0.107259</td>\n",
       "      <td>...</td>\n",
       "      <td>0.202590</td>\n",
       "      <td>0.258672</td>\n",
       "      <td>0.386297</td>\n",
       "      <td>0.364318</td>\n",
       "      <td>0.098878</td>\n",
       "      <td>0.053717</td>\n",
       "      <td>-0.482075</td>\n",
       "      <td>0.269335</td>\n",
       "      <td>-0.117216</td>\n",
       "      <td>-0.166603</td>\n",
       "    </tr>\n",
       "    <tr>\n",
       "      <th>Pclass_1</th>\n",
       "      <td>0.098013</td>\n",
       "      <td>0.319916</td>\n",
       "      <td>0.591711</td>\n",
       "      <td>1.000000</td>\n",
       "      <td>-0.288585</td>\n",
       "      <td>-0.626738</td>\n",
       "      <td>-0.084700</td>\n",
       "      <td>0.020348</td>\n",
       "      <td>-0.097288</td>\n",
       "      <td>0.093608</td>\n",
       "      <td>...</td>\n",
       "      <td>-0.008743</td>\n",
       "      <td>0.001863</td>\n",
       "      <td>0.417160</td>\n",
       "      <td>0.470749</td>\n",
       "      <td>0.291218</td>\n",
       "      <td>0.242675</td>\n",
       "      <td>-0.788773</td>\n",
       "      <td>0.296423</td>\n",
       "      <td>-0.155342</td>\n",
       "      <td>-0.170379</td>\n",
       "    </tr>\n",
       "    <tr>\n",
       "      <th>Pclass_2</th>\n",
       "      <td>0.064746</td>\n",
       "      <td>0.006589</td>\n",
       "      <td>-0.118557</td>\n",
       "      <td>-0.288585</td>\n",
       "      <td>1.000000</td>\n",
       "      <td>-0.565210</td>\n",
       "      <td>0.009903</td>\n",
       "      <td>-0.021903</td>\n",
       "      <td>-0.088569</td>\n",
       "      <td>0.119193</td>\n",
       "      <td>...</td>\n",
       "      <td>-0.014539</td>\n",
       "      <td>0.009191</td>\n",
       "      <td>-0.120386</td>\n",
       "      <td>-0.135851</td>\n",
       "      <td>-0.041325</td>\n",
       "      <td>-0.038864</td>\n",
       "      <td>0.172413</td>\n",
       "      <td>-0.125416</td>\n",
       "      <td>-0.127301</td>\n",
       "      <td>0.192061</td>\n",
       "    </tr>\n",
       "    <tr>\n",
       "      <th>Pclass_3</th>\n",
       "      <td>-0.137143</td>\n",
       "      <td>-0.281004</td>\n",
       "      <td>-0.413333</td>\n",
       "      <td>-0.626738</td>\n",
       "      <td>-0.565210</td>\n",
       "      <td>1.000000</td>\n",
       "      <td>0.064918</td>\n",
       "      <td>0.000293</td>\n",
       "      <td>0.155907</td>\n",
       "      <td>-0.177658</td>\n",
       "      <td>...</td>\n",
       "      <td>0.019365</td>\n",
       "      <td>-0.009086</td>\n",
       "      <td>-0.261450</td>\n",
       "      <td>-0.295036</td>\n",
       "      <td>-0.217282</td>\n",
       "      <td>-0.177461</td>\n",
       "      <td>0.539291</td>\n",
       "      <td>-0.153329</td>\n",
       "      <td>0.237449</td>\n",
       "      <td>-0.009511</td>\n",
       "    </tr>\n",
       "    <tr>\n",
       "      <th>Title_Master</th>\n",
       "      <td>-0.159934</td>\n",
       "      <td>-0.377265</td>\n",
       "      <td>0.010908</td>\n",
       "      <td>-0.084700</td>\n",
       "      <td>0.009903</td>\n",
       "      <td>0.064918</td>\n",
       "      <td>1.000000</td>\n",
       "      <td>-0.110981</td>\n",
       "      <td>-0.254903</td>\n",
       "      <td>-0.087987</td>\n",
       "      <td>...</td>\n",
       "      <td>0.206088</td>\n",
       "      <td>0.382476</td>\n",
       "      <td>-0.026914</td>\n",
       "      <td>-0.035937</td>\n",
       "      <td>-0.042519</td>\n",
       "      <td>-0.012717</td>\n",
       "      <td>0.027841</td>\n",
       "      <td>-0.035225</td>\n",
       "      <td>0.010478</td>\n",
       "      <td>0.025291</td>\n",
       "    </tr>\n",
       "    <tr>\n",
       "      <th>Title_Miss</th>\n",
       "      <td>0.693916</td>\n",
       "      <td>-0.249169</td>\n",
       "      <td>0.119518</td>\n",
       "      <td>0.020348</td>\n",
       "      <td>-0.021903</td>\n",
       "      <td>0.000293</td>\n",
       "      <td>-0.110981</td>\n",
       "      <td>1.000000</td>\n",
       "      <td>-0.601857</td>\n",
       "      <td>-0.207749</td>\n",
       "      <td>...</td>\n",
       "      <td>0.145912</td>\n",
       "      <td>0.124744</td>\n",
       "      <td>0.064880</td>\n",
       "      <td>0.008343</td>\n",
       "      <td>0.016822</td>\n",
       "      <td>0.020161</td>\n",
       "      <td>-0.043749</td>\n",
       "      <td>0.036204</td>\n",
       "      <td>0.167531</td>\n",
       "      <td>-0.140414</td>\n",
       "    </tr>\n",
       "    <tr>\n",
       "      <th>Title_Mr</th>\n",
       "      <td>-0.867334</td>\n",
       "      <td>0.185900</td>\n",
       "      <td>-0.183766</td>\n",
       "      <td>-0.097288</td>\n",
       "      <td>-0.088569</td>\n",
       "      <td>0.155907</td>\n",
       "      <td>-0.254903</td>\n",
       "      <td>-0.601857</td>\n",
       "      <td>1.000000</td>\n",
       "      <td>-0.477160</td>\n",
       "      <td>...</td>\n",
       "      <td>-0.266175</td>\n",
       "      <td>-0.394009</td>\n",
       "      <td>-0.114673</td>\n",
       "      <td>-0.047873</td>\n",
       "      <td>-0.049952</td>\n",
       "      <td>-0.031384</td>\n",
       "      <td>0.137319</td>\n",
       "      <td>-0.072567</td>\n",
       "      <td>-0.078338</td>\n",
       "      <td>0.118482</td>\n",
       "    </tr>\n",
       "    <tr>\n",
       "      <th>Title_Mrs</th>\n",
       "      <td>0.550146</td>\n",
       "      <td>0.164533</td>\n",
       "      <td>0.107259</td>\n",
       "      <td>0.093608</td>\n",
       "      <td>0.119193</td>\n",
       "      <td>-0.177658</td>\n",
       "      <td>-0.087987</td>\n",
       "      <td>-0.207749</td>\n",
       "      <td>-0.477160</td>\n",
       "      <td>1.000000</td>\n",
       "      <td>...</td>\n",
       "      <td>0.110266</td>\n",
       "      <td>0.206390</td>\n",
       "      <td>0.062731</td>\n",
       "      <td>0.073270</td>\n",
       "      <td>0.073907</td>\n",
       "      <td>0.042837</td>\n",
       "      <td>-0.123817</td>\n",
       "      <td>0.067872</td>\n",
       "      <td>-0.090432</td>\n",
       "      <td>-0.007704</td>\n",
       "    </tr>\n",
       "    <tr>\n",
       "      <th>Title_Rare</th>\n",
       "      <td>-0.075638</td>\n",
       "      <td>0.189872</td>\n",
       "      <td>0.016275</td>\n",
       "      <td>0.155640</td>\n",
       "      <td>0.056827</td>\n",
       "      <td>-0.180349</td>\n",
       "      <td>-0.035291</td>\n",
       "      <td>-0.083327</td>\n",
       "      <td>-0.191387</td>\n",
       "      <td>-0.066063</td>\n",
       "      <td>...</td>\n",
       "      <td>-0.056235</td>\n",
       "      <td>-0.045799</td>\n",
       "      <td>0.088233</td>\n",
       "      <td>0.013576</td>\n",
       "      <td>0.005552</td>\n",
       "      <td>-0.031418</td>\n",
       "      <td>-0.079742</td>\n",
       "      <td>0.030095</td>\n",
       "      <td>0.000311</td>\n",
       "      <td>-0.025678</td>\n",
       "    </tr>\n",
       "    <tr>\n",
       "      <th>SibSp_0</th>\n",
       "      <td>-0.203203</td>\n",
       "      <td>0.148409</td>\n",
       "      <td>-0.192190</td>\n",
       "      <td>-0.058470</td>\n",
       "      <td>-0.033099</td>\n",
       "      <td>0.077316</td>\n",
       "      <td>-0.247924</td>\n",
       "      <td>-0.001428</td>\n",
       "      <td>0.294116</td>\n",
       "      <td>-0.276603</td>\n",
       "      <td>...</td>\n",
       "      <td>-0.248598</td>\n",
       "      <td>-0.761458</td>\n",
       "      <td>-0.000775</td>\n",
       "      <td>-0.109169</td>\n",
       "      <td>-0.044915</td>\n",
       "      <td>0.002123</td>\n",
       "      <td>0.075769</td>\n",
       "      <td>-0.034759</td>\n",
       "      <td>0.055398</td>\n",
       "      <td>-0.007822</td>\n",
       "    </tr>\n",
       "    <tr>\n",
       "      <th>SibSp_1</th>\n",
       "      <td>0.179339</td>\n",
       "      <td>0.014570</td>\n",
       "      <td>0.133121</td>\n",
       "      <td>0.125673</td>\n",
       "      <td>0.077469</td>\n",
       "      <td>-0.171329</td>\n",
       "      <td>0.071853</td>\n",
       "      <td>-0.087472</td>\n",
       "      <td>-0.194670</td>\n",
       "      <td>0.345444</td>\n",
       "      <td>...</td>\n",
       "      <td>0.057638</td>\n",
       "      <td>0.401855</td>\n",
       "      <td>0.023406</td>\n",
       "      <td>0.118880</td>\n",
       "      <td>0.087788</td>\n",
       "      <td>0.035498</td>\n",
       "      <td>-0.133319</td>\n",
       "      <td>0.092043</td>\n",
       "      <td>-0.066568</td>\n",
       "      <td>-0.035869</td>\n",
       "    </tr>\n",
       "    <tr>\n",
       "      <th>SibSp_2</th>\n",
       "      <td>0.067438</td>\n",
       "      <td>-0.272739</td>\n",
       "      <td>0.119825</td>\n",
       "      <td>-0.094326</td>\n",
       "      <td>-0.063112</td>\n",
       "      <td>0.132636</td>\n",
       "      <td>0.307924</td>\n",
       "      <td>0.136718</td>\n",
       "      <td>-0.197271</td>\n",
       "      <td>-0.063782</td>\n",
       "      <td>...</td>\n",
       "      <td>0.330886</td>\n",
       "      <td>0.667557</td>\n",
       "      <td>-0.034632</td>\n",
       "      <td>0.001634</td>\n",
       "      <td>-0.059023</td>\n",
       "      <td>-0.058088</td>\n",
       "      <td>0.076883</td>\n",
       "      <td>-0.082690</td>\n",
       "      <td>0.008756</td>\n",
       "      <td>0.068270</td>\n",
       "    </tr>\n",
       "    <tr>\n",
       "      <th>Parch_0</th>\n",
       "      <td>-0.247523</td>\n",
       "      <td>0.261583</td>\n",
       "      <td>-0.237717</td>\n",
       "      <td>-0.008373</td>\n",
       "      <td>-0.039091</td>\n",
       "      <td>0.039029</td>\n",
       "      <td>-0.374095</td>\n",
       "      <td>-0.128289</td>\n",
       "      <td>0.381733</td>\n",
       "      <td>-0.195434</td>\n",
       "      <td>...</td>\n",
       "      <td>-0.616354</td>\n",
       "      <td>-0.824616</td>\n",
       "      <td>-0.091402</td>\n",
       "      <td>-0.020060</td>\n",
       "      <td>-0.001548</td>\n",
       "      <td>-0.019094</td>\n",
       "      <td>0.089136</td>\n",
       "      <td>-0.032550</td>\n",
       "      <td>0.097467</td>\n",
       "      <td>-0.035549</td>\n",
       "    </tr>\n",
       "    <tr>\n",
       "      <th>Parch_1</th>\n",
       "      <td>0.127636</td>\n",
       "      <td>-0.147908</td>\n",
       "      <td>0.114650</td>\n",
       "      <td>0.018496</td>\n",
       "      <td>0.062425</td>\n",
       "      <td>-0.066741</td>\n",
       "      <td>0.283067</td>\n",
       "      <td>0.028567</td>\n",
       "      <td>-0.237967</td>\n",
       "      <td>0.145511</td>\n",
       "      <td>...</td>\n",
       "      <td>-0.134976</td>\n",
       "      <td>0.397454</td>\n",
       "      <td>0.070737</td>\n",
       "      <td>-0.024150</td>\n",
       "      <td>0.028572</td>\n",
       "      <td>0.066942</td>\n",
       "      <td>-0.094433</td>\n",
       "      <td>0.065610</td>\n",
       "      <td>-0.049463</td>\n",
       "      <td>-0.024325</td>\n",
       "    </tr>\n",
       "    <tr>\n",
       "      <th>Parch_2</th>\n",
       "      <td>0.201880</td>\n",
       "      <td>-0.199046</td>\n",
       "      <td>0.202590</td>\n",
       "      <td>-0.008743</td>\n",
       "      <td>-0.014539</td>\n",
       "      <td>0.019365</td>\n",
       "      <td>0.206088</td>\n",
       "      <td>0.145912</td>\n",
       "      <td>-0.266175</td>\n",
       "      <td>0.110266</td>\n",
       "      <td>...</td>\n",
       "      <td>1.000000</td>\n",
       "      <td>0.703047</td>\n",
       "      <td>0.048622</td>\n",
       "      <td>0.054246</td>\n",
       "      <td>-0.029240</td>\n",
       "      <td>-0.047135</td>\n",
       "      <td>-0.019466</td>\n",
       "      <td>-0.027077</td>\n",
       "      <td>-0.080368</td>\n",
       "      <td>0.075842</td>\n",
       "    </tr>\n",
       "    <tr>\n",
       "      <th>FamilySize</th>\n",
       "      <td>0.253826</td>\n",
       "      <td>-0.286577</td>\n",
       "      <td>0.258672</td>\n",
       "      <td>0.001863</td>\n",
       "      <td>0.009191</td>\n",
       "      <td>-0.009086</td>\n",
       "      <td>0.382476</td>\n",
       "      <td>0.124744</td>\n",
       "      <td>-0.394009</td>\n",
       "      <td>0.206390</td>\n",
       "      <td>...</td>\n",
       "      <td>0.703047</td>\n",
       "      <td>1.000000</td>\n",
       "      <td>0.040449</td>\n",
       "      <td>0.069146</td>\n",
       "      <td>-0.003379</td>\n",
       "      <td>-0.021150</td>\n",
       "      <td>-0.052450</td>\n",
       "      <td>-0.001003</td>\n",
       "      <td>-0.081044</td>\n",
       "      <td>0.055129</td>\n",
       "    </tr>\n",
       "    <tr>\n",
       "      <th>Cabin_B</th>\n",
       "      <td>0.109689</td>\n",
       "      <td>0.091394</td>\n",
       "      <td>0.386297</td>\n",
       "      <td>0.417160</td>\n",
       "      <td>-0.120386</td>\n",
       "      <td>-0.261450</td>\n",
       "      <td>-0.026914</td>\n",
       "      <td>0.064880</td>\n",
       "      <td>-0.114673</td>\n",
       "      <td>0.062731</td>\n",
       "      <td>...</td>\n",
       "      <td>0.048622</td>\n",
       "      <td>0.040449</td>\n",
       "      <td>1.000000</td>\n",
       "      <td>-0.062841</td>\n",
       "      <td>-0.046280</td>\n",
       "      <td>-0.045547</td>\n",
       "      <td>-0.433053</td>\n",
       "      <td>0.168642</td>\n",
       "      <td>-0.072579</td>\n",
       "      <td>-0.123057</td>\n",
       "    </tr>\n",
       "    <tr>\n",
       "      <th>Cabin_C</th>\n",
       "      <td>0.058649</td>\n",
       "      <td>0.113149</td>\n",
       "      <td>0.364318</td>\n",
       "      <td>0.470749</td>\n",
       "      <td>-0.135851</td>\n",
       "      <td>-0.295036</td>\n",
       "      <td>-0.035937</td>\n",
       "      <td>0.008343</td>\n",
       "      <td>-0.047873</td>\n",
       "      <td>0.073270</td>\n",
       "      <td>...</td>\n",
       "      <td>0.054246</td>\n",
       "      <td>0.069146</td>\n",
       "      <td>-0.062841</td>\n",
       "      <td>1.000000</td>\n",
       "      <td>-0.052225</td>\n",
       "      <td>-0.051398</td>\n",
       "      <td>-0.488683</td>\n",
       "      <td>0.113952</td>\n",
       "      <td>-0.049776</td>\n",
       "      <td>-0.066995</td>\n",
       "    </tr>\n",
       "    <tr>\n",
       "      <th>Cabin_D</th>\n",
       "      <td>0.079248</td>\n",
       "      <td>0.132319</td>\n",
       "      <td>0.098878</td>\n",
       "      <td>0.291218</td>\n",
       "      <td>-0.041325</td>\n",
       "      <td>-0.217282</td>\n",
       "      <td>-0.042519</td>\n",
       "      <td>0.016822</td>\n",
       "      <td>-0.049952</td>\n",
       "      <td>0.073907</td>\n",
       "      <td>...</td>\n",
       "      <td>-0.029240</td>\n",
       "      <td>-0.003379</td>\n",
       "      <td>-0.046280</td>\n",
       "      <td>-0.052225</td>\n",
       "      <td>1.000000</td>\n",
       "      <td>-0.037852</td>\n",
       "      <td>-0.359896</td>\n",
       "      <td>0.102977</td>\n",
       "      <td>-0.060318</td>\n",
       "      <td>-0.051139</td>\n",
       "    </tr>\n",
       "    <tr>\n",
       "      <th>Cabin_E</th>\n",
       "      <td>0.047003</td>\n",
       "      <td>0.117211</td>\n",
       "      <td>0.053717</td>\n",
       "      <td>0.242675</td>\n",
       "      <td>-0.038864</td>\n",
       "      <td>-0.177461</td>\n",
       "      <td>-0.012717</td>\n",
       "      <td>0.020161</td>\n",
       "      <td>-0.031384</td>\n",
       "      <td>0.042837</td>\n",
       "      <td>...</td>\n",
       "      <td>-0.047135</td>\n",
       "      <td>-0.021150</td>\n",
       "      <td>-0.045547</td>\n",
       "      <td>-0.051398</td>\n",
       "      <td>-0.037852</td>\n",
       "      <td>1.000000</td>\n",
       "      <td>-0.354194</td>\n",
       "      <td>-0.015939</td>\n",
       "      <td>-0.037897</td>\n",
       "      <td>0.038685</td>\n",
       "    </tr>\n",
       "    <tr>\n",
       "      <th>Cabin_U</th>\n",
       "      <td>-0.140391</td>\n",
       "      <td>-0.233123</td>\n",
       "      <td>-0.482075</td>\n",
       "      <td>-0.788773</td>\n",
       "      <td>0.172413</td>\n",
       "      <td>0.539291</td>\n",
       "      <td>0.027841</td>\n",
       "      <td>-0.043749</td>\n",
       "      <td>0.137319</td>\n",
       "      <td>-0.123817</td>\n",
       "      <td>...</td>\n",
       "      <td>-0.019466</td>\n",
       "      <td>-0.052450</td>\n",
       "      <td>-0.433053</td>\n",
       "      <td>-0.488683</td>\n",
       "      <td>-0.359896</td>\n",
       "      <td>-0.354194</td>\n",
       "      <td>1.000000</td>\n",
       "      <td>-0.208528</td>\n",
       "      <td>0.129572</td>\n",
       "      <td>0.110087</td>\n",
       "    </tr>\n",
       "    <tr>\n",
       "      <th>Embarked_C</th>\n",
       "      <td>0.082853</td>\n",
       "      <td>0.032024</td>\n",
       "      <td>0.269335</td>\n",
       "      <td>0.296423</td>\n",
       "      <td>-0.125416</td>\n",
       "      <td>-0.153329</td>\n",
       "      <td>-0.035225</td>\n",
       "      <td>0.036204</td>\n",
       "      <td>-0.072567</td>\n",
       "      <td>0.067872</td>\n",
       "      <td>...</td>\n",
       "      <td>-0.027077</td>\n",
       "      <td>-0.001003</td>\n",
       "      <td>0.168642</td>\n",
       "      <td>0.113952</td>\n",
       "      <td>0.102977</td>\n",
       "      <td>-0.015939</td>\n",
       "      <td>-0.208528</td>\n",
       "      <td>1.000000</td>\n",
       "      <td>-0.148258</td>\n",
       "      <td>-0.778359</td>\n",
       "    </tr>\n",
       "    <tr>\n",
       "      <th>Embarked_Q</th>\n",
       "      <td>0.074115</td>\n",
       "      <td>-0.013855</td>\n",
       "      <td>-0.117216</td>\n",
       "      <td>-0.155342</td>\n",
       "      <td>-0.127301</td>\n",
       "      <td>0.237449</td>\n",
       "      <td>0.010478</td>\n",
       "      <td>0.167531</td>\n",
       "      <td>-0.078338</td>\n",
       "      <td>-0.090432</td>\n",
       "      <td>...</td>\n",
       "      <td>-0.080368</td>\n",
       "      <td>-0.081044</td>\n",
       "      <td>-0.072579</td>\n",
       "      <td>-0.049776</td>\n",
       "      <td>-0.060318</td>\n",
       "      <td>-0.037897</td>\n",
       "      <td>0.129572</td>\n",
       "      <td>-0.148258</td>\n",
       "      <td>1.000000</td>\n",
       "      <td>-0.496624</td>\n",
       "    </tr>\n",
       "    <tr>\n",
       "      <th>Embarked_S</th>\n",
       "      <td>-0.125722</td>\n",
       "      <td>-0.027121</td>\n",
       "      <td>-0.166603</td>\n",
       "      <td>-0.170379</td>\n",
       "      <td>0.192061</td>\n",
       "      <td>-0.009511</td>\n",
       "      <td>0.025291</td>\n",
       "      <td>-0.140414</td>\n",
       "      <td>0.118482</td>\n",
       "      <td>-0.007704</td>\n",
       "      <td>...</td>\n",
       "      <td>0.075842</td>\n",
       "      <td>0.055129</td>\n",
       "      <td>-0.123057</td>\n",
       "      <td>-0.066995</td>\n",
       "      <td>-0.051139</td>\n",
       "      <td>0.038685</td>\n",
       "      <td>0.110087</td>\n",
       "      <td>-0.778359</td>\n",
       "      <td>-0.496624</td>\n",
       "      <td>1.000000</td>\n",
       "    </tr>\n",
       "  </tbody>\n",
       "</table>\n",
       "<p>26 rows × 26 columns</p>\n",
       "</div>"
      ],
      "text/plain": [
       "                   Sex       Age      Fare  Pclass_1  Pclass_2  Pclass_3  \\\n",
       "Sex           1.000000 -0.084153  0.182333  0.098013  0.064746 -0.137143   \n",
       "Age          -0.084153  1.000000  0.091566  0.319916  0.006589 -0.281004   \n",
       "Fare          0.182333  0.091566  1.000000  0.591711 -0.118557 -0.413333   \n",
       "Pclass_1      0.098013  0.319916  0.591711  1.000000 -0.288585 -0.626738   \n",
       "Pclass_2      0.064746  0.006589 -0.118557 -0.288585  1.000000 -0.565210   \n",
       "Pclass_3     -0.137143 -0.281004 -0.413333 -0.626738 -0.565210  1.000000   \n",
       "Title_Master -0.159934 -0.377265  0.010908 -0.084700  0.009903  0.064918   \n",
       "Title_Miss    0.693916 -0.249169  0.119518  0.020348 -0.021903  0.000293   \n",
       "Title_Mr     -0.867334  0.185900 -0.183766 -0.097288 -0.088569  0.155907   \n",
       "Title_Mrs     0.550146  0.164533  0.107259  0.093608  0.119193 -0.177658   \n",
       "Title_Rare   -0.075638  0.189872  0.016275  0.155640  0.056827 -0.180349   \n",
       "SibSp_0      -0.203203  0.148409 -0.192190 -0.058470 -0.033099  0.077316   \n",
       "SibSp_1       0.179339  0.014570  0.133121  0.125673  0.077469 -0.171329   \n",
       "SibSp_2       0.067438 -0.272739  0.119825 -0.094326 -0.063112  0.132636   \n",
       "Parch_0      -0.247523  0.261583 -0.237717 -0.008373 -0.039091  0.039029   \n",
       "Parch_1       0.127636 -0.147908  0.114650  0.018496  0.062425 -0.066741   \n",
       "Parch_2       0.201880 -0.199046  0.202590 -0.008743 -0.014539  0.019365   \n",
       "FamilySize    0.253826 -0.286577  0.258672  0.001863  0.009191 -0.009086   \n",
       "Cabin_B       0.109689  0.091394  0.386297  0.417160 -0.120386 -0.261450   \n",
       "Cabin_C       0.058649  0.113149  0.364318  0.470749 -0.135851 -0.295036   \n",
       "Cabin_D       0.079248  0.132319  0.098878  0.291218 -0.041325 -0.217282   \n",
       "Cabin_E       0.047003  0.117211  0.053717  0.242675 -0.038864 -0.177461   \n",
       "Cabin_U      -0.140391 -0.233123 -0.482075 -0.788773  0.172413  0.539291   \n",
       "Embarked_C    0.082853  0.032024  0.269335  0.296423 -0.125416 -0.153329   \n",
       "Embarked_Q    0.074115 -0.013855 -0.117216 -0.155342 -0.127301  0.237449   \n",
       "Embarked_S   -0.125722 -0.027121 -0.166603 -0.170379  0.192061 -0.009511   \n",
       "\n",
       "              Title_Master  Title_Miss  Title_Mr  Title_Mrs  ...   Parch_2  \\\n",
       "Sex              -0.159934    0.693916 -0.867334   0.550146  ...  0.201880   \n",
       "Age              -0.377265   -0.249169  0.185900   0.164533  ... -0.199046   \n",
       "Fare              0.010908    0.119518 -0.183766   0.107259  ...  0.202590   \n",
       "Pclass_1         -0.084700    0.020348 -0.097288   0.093608  ... -0.008743   \n",
       "Pclass_2          0.009903   -0.021903 -0.088569   0.119193  ... -0.014539   \n",
       "Pclass_3          0.064918    0.000293  0.155907  -0.177658  ...  0.019365   \n",
       "Title_Master      1.000000   -0.110981 -0.254903  -0.087987  ...  0.206088   \n",
       "Title_Miss       -0.110981    1.000000 -0.601857  -0.207749  ...  0.145912   \n",
       "Title_Mr         -0.254903   -0.601857  1.000000  -0.477160  ... -0.266175   \n",
       "Title_Mrs        -0.087987   -0.207749 -0.477160   1.000000  ...  0.110266   \n",
       "Title_Rare       -0.035291   -0.083327 -0.191387  -0.066063  ... -0.056235   \n",
       "SibSp_0          -0.247924   -0.001428  0.294116  -0.276603  ... -0.248598   \n",
       "SibSp_1           0.071853   -0.087472 -0.194670   0.345444  ...  0.057638   \n",
       "SibSp_2           0.307924    0.136718 -0.197271  -0.063782  ...  0.330886   \n",
       "Parch_0          -0.374095   -0.128289  0.381733  -0.195434  ... -0.616354   \n",
       "Parch_1           0.283067    0.028567 -0.237967   0.145511  ... -0.134976   \n",
       "Parch_2           0.206088    0.145912 -0.266175   0.110266  ...  1.000000   \n",
       "FamilySize        0.382476    0.124744 -0.394009   0.206390  ...  0.703047   \n",
       "Cabin_B          -0.026914    0.064880 -0.114673   0.062731  ...  0.048622   \n",
       "Cabin_C          -0.035937    0.008343 -0.047873   0.073270  ...  0.054246   \n",
       "Cabin_D          -0.042519    0.016822 -0.049952   0.073907  ... -0.029240   \n",
       "Cabin_E          -0.012717    0.020161 -0.031384   0.042837  ... -0.047135   \n",
       "Cabin_U           0.027841   -0.043749  0.137319  -0.123817  ... -0.019466   \n",
       "Embarked_C       -0.035225    0.036204 -0.072567   0.067872  ... -0.027077   \n",
       "Embarked_Q        0.010478    0.167531 -0.078338  -0.090432  ... -0.080368   \n",
       "Embarked_S        0.025291   -0.140414  0.118482  -0.007704  ...  0.075842   \n",
       "\n",
       "              FamilySize   Cabin_B   Cabin_C   Cabin_D   Cabin_E   Cabin_U  \\\n",
       "Sex             0.253826  0.109689  0.058649  0.079248  0.047003 -0.140391   \n",
       "Age            -0.286577  0.091394  0.113149  0.132319  0.117211 -0.233123   \n",
       "Fare            0.258672  0.386297  0.364318  0.098878  0.053717 -0.482075   \n",
       "Pclass_1        0.001863  0.417160  0.470749  0.291218  0.242675 -0.788773   \n",
       "Pclass_2        0.009191 -0.120386 -0.135851 -0.041325 -0.038864  0.172413   \n",
       "Pclass_3       -0.009086 -0.261450 -0.295036 -0.217282 -0.177461  0.539291   \n",
       "Title_Master    0.382476 -0.026914 -0.035937 -0.042519 -0.012717  0.027841   \n",
       "Title_Miss      0.124744  0.064880  0.008343  0.016822  0.020161 -0.043749   \n",
       "Title_Mr       -0.394009 -0.114673 -0.047873 -0.049952 -0.031384  0.137319   \n",
       "Title_Mrs       0.206390  0.062731  0.073270  0.073907  0.042837 -0.123817   \n",
       "Title_Rare     -0.045799  0.088233  0.013576  0.005552 -0.031418 -0.079742   \n",
       "SibSp_0        -0.761458 -0.000775 -0.109169 -0.044915  0.002123  0.075769   \n",
       "SibSp_1         0.401855  0.023406  0.118880  0.087788  0.035498 -0.133319   \n",
       "SibSp_2         0.667557 -0.034632  0.001634 -0.059023 -0.058088  0.076883   \n",
       "Parch_0        -0.824616 -0.091402 -0.020060 -0.001548 -0.019094  0.089136   \n",
       "Parch_1         0.397454  0.070737 -0.024150  0.028572  0.066942 -0.094433   \n",
       "Parch_2         0.703047  0.048622  0.054246 -0.029240 -0.047135 -0.019466   \n",
       "FamilySize      1.000000  0.040449  0.069146 -0.003379 -0.021150 -0.052450   \n",
       "Cabin_B         0.040449  1.000000 -0.062841 -0.046280 -0.045547 -0.433053   \n",
       "Cabin_C         0.069146 -0.062841  1.000000 -0.052225 -0.051398 -0.488683   \n",
       "Cabin_D        -0.003379 -0.046280 -0.052225  1.000000 -0.037852 -0.359896   \n",
       "Cabin_E        -0.021150 -0.045547 -0.051398 -0.037852  1.000000 -0.354194   \n",
       "Cabin_U        -0.052450 -0.433053 -0.488683 -0.359896 -0.354194  1.000000   \n",
       "Embarked_C     -0.001003  0.168642  0.113952  0.102977 -0.015939 -0.208528   \n",
       "Embarked_Q     -0.081044 -0.072579 -0.049776 -0.060318 -0.037897  0.129572   \n",
       "Embarked_S      0.055129 -0.123057 -0.066995 -0.051139  0.038685  0.110087   \n",
       "\n",
       "              Embarked_C  Embarked_Q  Embarked_S  \n",
       "Sex             0.082853    0.074115   -0.125722  \n",
       "Age             0.032024   -0.013855   -0.027121  \n",
       "Fare            0.269335   -0.117216   -0.166603  \n",
       "Pclass_1        0.296423   -0.155342   -0.170379  \n",
       "Pclass_2       -0.125416   -0.127301    0.192061  \n",
       "Pclass_3       -0.153329    0.237449   -0.009511  \n",
       "Title_Master   -0.035225    0.010478    0.025291  \n",
       "Title_Miss      0.036204    0.167531   -0.140414  \n",
       "Title_Mr       -0.072567   -0.078338    0.118482  \n",
       "Title_Mrs       0.067872   -0.090432   -0.007704  \n",
       "Title_Rare      0.030095    0.000311   -0.025678  \n",
       "SibSp_0        -0.034759    0.055398   -0.007822  \n",
       "SibSp_1         0.092043   -0.066568   -0.035869  \n",
       "SibSp_2        -0.082690    0.008756    0.068270  \n",
       "Parch_0        -0.032550    0.097467   -0.035549  \n",
       "Parch_1         0.065610   -0.049463   -0.024325  \n",
       "Parch_2        -0.027077   -0.080368    0.075842  \n",
       "FamilySize     -0.001003   -0.081044    0.055129  \n",
       "Cabin_B         0.168642   -0.072579   -0.123057  \n",
       "Cabin_C         0.113952   -0.049776   -0.066995  \n",
       "Cabin_D         0.102977   -0.060318   -0.051139  \n",
       "Cabin_E        -0.015939   -0.037897    0.038685  \n",
       "Cabin_U        -0.208528    0.129572    0.110087  \n",
       "Embarked_C      1.000000   -0.148258   -0.778359  \n",
       "Embarked_Q     -0.148258    1.000000   -0.496624  \n",
       "Embarked_S     -0.778359   -0.496624    1.000000  \n",
       "\n",
       "[26 rows x 26 columns]"
      ]
     },
     "execution_count": 43,
     "metadata": {},
     "output_type": "execute_result"
    }
   ],
   "source": [
    "X.corr()"
   ]
  },
  {
   "cell_type": "markdown",
   "id": "ff471c91",
   "metadata": {
    "papermill": {
     "duration": 0.092679,
     "end_time": "2022-02-09T12:52:38.164889",
     "exception": false,
     "start_time": "2022-02-09T12:52:38.072210",
     "status": "completed"
    },
    "tags": []
   },
   "source": [
    "## Feature scoring"
   ]
  },
  {
   "cell_type": "markdown",
   "id": "9e5a834c",
   "metadata": {
    "papermill": {
     "duration": 0.09172,
     "end_time": "2022-02-09T12:52:38.349050",
     "exception": false,
     "start_time": "2022-02-09T12:52:38.257330",
     "status": "completed"
    },
    "tags": []
   },
   "source": [
    "> 각 feature가 Survived에 얼마나 영향을 주는지 Mutal Information Score로 측정하고 시각화함."
   ]
  },
  {
   "cell_type": "code",
   "execution_count": 44,
   "id": "9cd381fa",
   "metadata": {
    "execution": {
     "iopub.execute_input": "2022-02-09T12:52:38.544925Z",
     "iopub.status.busy": "2022-02-09T12:52:38.544079Z",
     "iopub.status.idle": "2022-02-09T12:52:39.700999Z",
     "shell.execute_reply": "2022-02-09T12:52:39.700378Z",
     "shell.execute_reply.started": "2022-02-08T11:42:27.434255Z"
    },
    "papermill": {
     "duration": 1.264221,
     "end_time": "2022-02-09T12:52:39.701165",
     "exception": false,
     "start_time": "2022-02-09T12:52:38.436944",
     "status": "completed"
    },
    "tags": []
   },
   "outputs": [
    {
     "data": {
      "text/plain": [
       "<Axes: xlabel='MI Scores', ylabel='None'>"
      ]
     },
     "execution_count": 44,
     "metadata": {},
     "output_type": "execute_result"
    },
    {
     "data": {
      "image/png": "[encoded data removed]",
      "text/plain": [
       "<Figure size 640x480 with 1 Axes>"
      ]
     },
     "metadata": {},
     "output_type": "display_data"
    }
   ],
   "source": [
    "from sklearn.feature_selection import mutual_info_regression\n",
    "\n",
    "def make_mi_scores(X, y):\n",
    "    X = X.copy()\n",
    "    discrete_features = [X.columns.get_loc(column_name) for column_name in X.dtypes[X.dtypes=='uint8'].index] \n",
    "    mi_scores = mutual_info_regression(X, y, discrete_features=discrete_features, random_state=0)\n",
    "    mi_scores = pd.Series(mi_scores, name=\"MI Scores\", index=X.columns)\n",
    "    mi_scores = mi_scores.sort_values(ascending=False)\n",
    "    return mi_scores\n",
    "\n",
    "\n",
    "def plot_mi_scores(scores):\n",
    "    scores = scores.sort_values(ascending=True)\n",
    "    width = np.arange(len(scores))\n",
    "    ticks = list(scores.index)\n",
    "    plt.barh(width, scores)\n",
    "    plt.yticks(width, ticks)\n",
    "    plt.title(\"Mutual Information Scores\")\n",
    "\n",
    "    \n",
    "  \n",
    "mi_scores = make_mi_scores(X, y)\n",
    "X = X[mi_scores.index]  \n",
    "sns.barplot(x=mi_scores, y=mi_scores.index)\n"
   ]
  },
  {
   "cell_type": "markdown",
   "id": "a33b9a93",
   "metadata": {
    "execution": {
     "iopub.execute_input": "2022-02-07T16:00:03.72735Z",
     "iopub.status.busy": "2022-02-07T16:00:03.726572Z",
     "iopub.status.idle": "2022-02-07T16:00:03.731003Z",
     "shell.execute_reply": "2022-02-07T16:00:03.730194Z",
     "shell.execute_reply.started": "2022-02-07T16:00:03.727306Z"
    },
    "papermill": {
     "duration": 0.090481,
     "end_time": "2022-02-09T12:52:40.678246",
     "exception": false,
     "start_time": "2022-02-09T12:52:40.587765",
     "status": "completed"
    },
    "tags": []
   },
   "source": [
    "## Splitting\n",
    "Train과 validation 분류"
   ]
  },
  {
   "cell_type": "code",
   "execution_count": 45,
   "id": "4d1a5c7e",
   "metadata": {
    "execution": {
     "iopub.execute_input": "2022-02-09T12:52:40.871454Z",
     "iopub.status.busy": "2022-02-09T12:52:40.870361Z",
     "iopub.status.idle": "2022-02-09T12:52:40.873323Z",
     "shell.execute_reply": "2022-02-09T12:52:40.872690Z",
     "shell.execute_reply.started": "2022-02-08T11:42:28.334976Z"
    },
    "papermill": {
     "duration": 0.101622,
     "end_time": "2022-02-09T12:52:40.873460",
     "exception": false,
     "start_time": "2022-02-09T12:52:40.771838",
     "status": "completed"
    },
    "tags": []
   },
   "outputs": [],
   "source": [
    "from sklearn.model_selection import train_test_split\n",
    "\n",
    "X_train, X_val, y_train, y_val= train_test_split(X, y, train_size=0.8, test_size=0.2,random_state=1,shuffle=True)"
   ]
  },
  {
   "cell_type": "markdown",
   "id": "4269114e",
   "metadata": {
    "papermill": {
     "duration": 0.097047,
     "end_time": "2022-02-09T12:52:41.061202",
     "exception": false,
     "start_time": "2022-02-09T12:52:40.964155",
     "status": "completed"
    },
    "tags": []
   },
   "source": [
    "# Metric : Accuracy, F1-score, ROC-AUC\n",
    "\n",
    "`Accuracy` 이외에도 `F1-score`와 `ROC-AUC`를 계산해 모델의 precision·recall 균형과 전체 분류 성능을 확인.\n"
   ]
  },
  {
   "cell_type": "code",
   "execution_count": 46,
   "id": "96854c01",
   "metadata": {
    "execution": {
     "iopub.execute_input": "2022-02-09T12:52:41.252379Z",
     "iopub.status.busy": "2022-02-09T12:52:41.251347Z",
     "iopub.status.idle": "2022-02-09T12:52:41.254178Z",
     "shell.execute_reply": "2022-02-09T12:52:41.253578Z",
     "shell.execute_reply.started": "2022-02-08T11:42:28.342642Z"
    },
    "papermill": {
     "duration": 0.099461,
     "end_time": "2022-02-09T12:52:41.254327",
     "exception": false,
     "start_time": "2022-02-09T12:52:41.154866",
     "status": "completed"
    },
    "tags": []
   },
   "outputs": [],
   "source": [
    "from sklearn.metrics import accuracy_score, precision_score, recall_score, f1_score, roc_auc_score\n",
    "\n",
    "def evaluate_model(name, y_true, y_pred, y_proba=None):\n",
    "    print(f\"📌 {name} 결과:\")\n",
    "    print(\"  - Accuracy :\", accuracy_score(y_true, y_pred))\n",
    "    print(\"  - Precision:\", precision_score(y_true, y_pred))\n",
    "    print(\"  - Recall   :\", recall_score(y_true, y_pred))\n",
    "    print(\"  - F1 Score :\", f1_score(y_true, y_pred))\n",
    "    if y_proba is not None:\n",
    "        print(\"  - ROC AUC  :\", roc_auc_score(y_true, y_proba))\n",
    "    print(\"-\" * 40)\n"
   ]
  },
  {
   "cell_type": "markdown",
   "id": "e8c6294e",
   "metadata": {},
   "source": [
    "### Models\n",
    "기본 모델: `Logistic Regression`, `Decision Tree`\n",
    "\n",
    "개선 모델: `Random Forest`, `XGBoost`\n",
    "\n",
    "딥러닝: `Simple MLP model` "
   ]
  },
  {
   "cell_type": "code",
   "execution_count": 47,
   "id": "23329b11",
   "metadata": {},
   "outputs": [],
   "source": [
    "# train/val split 이후의 전체 feature를 사용\n",
    "# feature를 select해서 사용해도 무방하나 feature selection 과정을 추가로 넣어야 함 (MI를 기준으로 해도 됨)\n",
    "all_features = X.columns.tolist()"
   ]
  },
  {
   "cell_type": "markdown",
   "id": "44407e2b",
   "metadata": {},
   "source": [
    "Logistic Regression, Decision Tree, Random Forest, XGBoost"
   ]
  },
  {
   "cell_type": "code",
   "execution_count": 48,
   "id": "1cd24952",
   "metadata": {},
   "outputs": [
    {
     "name": "stderr",
     "output_type": "stream",
     "text": [
      "/home/icl/anaconda3/envs/ML/lib/python3.10/site-packages/xgboost/sklearn.py:1395: UserWarning: `use_label_encoder` is deprecated in 1.7.0.\n",
      "  warnings.warn(\"`use_label_encoder` is deprecated in 1.7.0.\")\n"
     ]
    },
    {
     "name": "stdout",
     "output_type": "stream",
     "text": [
      "📌 Logistic Regression 결과:\n",
      "  - Accuracy : 0.7988826815642458\n",
      "  - Precision: 0.7761194029850746\n",
      "  - Recall   : 0.7123287671232876\n",
      "  - F1 Score : 0.7428571428571429\n",
      "  - ROC AUC  : 0.8252132333936417\n",
      "----------------------------------------\n",
      "📌 Decision Tree 결과:\n",
      "  - Accuracy : 0.7262569832402235\n",
      "  - Precision: 0.6764705882352942\n",
      "  - Recall   : 0.6301369863013698\n",
      "  - F1 Score : 0.652482269503546\n",
      "  - ROC AUC  : 0.7104548979064358\n",
      "----------------------------------------\n",
      "📌 Random Forest 결과:\n",
      "  - Accuracy : 0.776536312849162\n",
      "  - Precision: 0.7894736842105263\n",
      "  - Recall   : 0.6164383561643836\n",
      "  - F1 Score : 0.6923076923076923\n",
      "  - ROC AUC  : 0.8233393641767899\n",
      "----------------------------------------\n",
      "📌 XGBoost 결과:\n",
      "  - Accuracy : 0.770949720670391\n",
      "  - Precision: 0.7857142857142857\n",
      "  - Recall   : 0.6027397260273972\n",
      "  - F1 Score : 0.6821705426356588\n",
      "  - ROC AUC  : 0.8409795812871542\n",
      "----------------------------------------\n"
     ]
    }
   ],
   "source": [
    "from sklearn.linear_model import LogisticRegression\n",
    "from sklearn.tree import DecisionTreeClassifier\n",
    "from sklearn.ensemble import RandomForestClassifier\n",
    "from xgboost import XGBClassifier\n",
    "\n",
    "models = {\n",
    "    \"Logistic Regression\": LogisticRegression(solver='liblinear'),\n",
    "    \"Decision Tree\": DecisionTreeClassifier(random_state=0),\n",
    "    \"Random Forest\": RandomForestClassifier(n_estimators=100, random_state=0),\n",
    "    \"XGBoost\": XGBClassifier(use_label_encoder=False, eval_metric='error', random_state=0)\n",
    "}\n",
    "\n",
    "for name, model in models.items():\n",
    "    model.fit(X_train[all_features], y_train)\n",
    "    y_pred = model.predict(X_val[all_features])\n",
    "\n",
    "    # 확률 값이 있을 경우 ROC-AUC도 평가\n",
    "    if hasattr(model, \"predict_proba\"):\n",
    "        y_proba = model.predict_proba(X_val[all_features])[:, 1]\n",
    "    else:\n",
    "        y_proba = None\n",
    "\n",
    "    evaluate_model(name, y_val, y_pred, y_proba)\n"
   ]
  },
  {
   "cell_type": "markdown",
   "id": "4039f794",
   "metadata": {},
   "source": [
    "### 딥러닝 모델\n",
    "Simple MLP 사용"
   ]
  },
  {
   "cell_type": "code",
   "execution_count": 49,
   "id": "337c2b52",
   "metadata": {},
   "outputs": [
    {
     "name": "stdout",
     "output_type": "stream",
     "text": [
      "📌 MLP (PyTorch, all features) 결과:\n",
      "  - Accuracy : 0.7262569832402235\n",
      "  - Precision: 0.7608695652173914\n",
      "  - Recall   : 0.4794520547945205\n",
      "  - F1 Score : 0.5882352941176471\n",
      "  - ROC AUC  : 0.8097053502196951\n",
      "----------------------------------------\n"
     ]
    }
   ],
   "source": [
    "import torch\n",
    "import torch.nn as nn\n",
    "import torch.optim as optim\n",
    "from torch.utils.data import TensorDataset, DataLoader\n",
    "\n",
    "# Tensor 변환\n",
    "X_tr = torch.tensor(X_train[all_features].astype(float).values, dtype=torch.float32)\n",
    "y_tr = torch.tensor(y_train.values, dtype=torch.float32).unsqueeze(1)\n",
    "X_vl = torch.tensor(X_val[all_features].astype(float).values, dtype=torch.float32)\n",
    "y_vl = torch.tensor(y_val.values, dtype=torch.float32).unsqueeze(1)\n",
    "\n",
    "train_ds = TensorDataset(X_tr, y_tr)\n",
    "val_ds   = TensorDataset(X_vl, y_vl)\n",
    "train_loader = DataLoader(train_ds, batch_size=64, shuffle=True)\n",
    "val_loader   = DataLoader(val_ds,   batch_size=64)\n",
    "\n",
    "class SimpleMLP(nn.Module):\n",
    "    def __init__(self, input_dim):\n",
    "        super().__init__()\n",
    "        self.net = nn.Sequential(\n",
    "            nn.Linear(input_dim, 16),\n",
    "            nn.ReLU(),\n",
    "            nn.Linear(16, 1),\n",
    "            nn.Sigmoid()\n",
    "        )\n",
    "    def forward(self, x):\n",
    "        return self.net(x)\n",
    "\n",
    "device = torch.device('cuda' if torch.cuda.is_available() else 'cpu')\n",
    "model = SimpleMLP(len(all_features)).to(device)\n",
    "\n",
    "criterion = nn.BCELoss()\n",
    "optimizer = optim.Adam(model.parameters(), lr=1e-4)\n",
    "\n",
    "for epoch in range(100):\n",
    "    model.train()\n",
    "    for xb, yb in train_loader:\n",
    "        xb, yb = xb.to(device), yb.to(device)\n",
    "        loss = criterion(model(xb), yb)\n",
    "        optimizer.zero_grad()\n",
    "        loss.backward()\n",
    "        optimizer.step()\n",
    "\n",
    "# 검증\n",
    "model.eval()\n",
    "y_pred_list = []\n",
    "y_proba_list = []\n",
    "with torch.no_grad():\n",
    "    for xb, _ in val_loader:\n",
    "        xb = xb.to(device)\n",
    "        out = model(xb).cpu()\n",
    "        y_proba_list.append(out)\n",
    "        y_pred_list.append((out > 0.5).float())\n",
    "\n",
    "y_pred_mlp = torch.cat(y_pred_list).numpy().flatten()\n",
    "y_proba_mlp = torch.cat(y_proba_list).numpy().flatten()\n",
    "\n",
    "evaluate_model(\"MLP (PyTorch, all features)\", y_val.values, y_pred_mlp, y_proba_mlp)\n"
   ]
  },
  {
   "cell_type": "markdown",
   "id": "150c1fb4",
   "metadata": {},
   "source": [
    "#### 한눈에 비교하기!"
   ]
  },
  {
   "cell_type": "code",
   "execution_count": 50,
   "id": "0bf4c7ff",
   "metadata": {},
   "outputs": [
    {
     "name": "stdout",
     "output_type": "stream",
     "text": [
      "📌 MLP (PyTorch, all features) 결과:\n",
      "  - Accuracy : 0.7262569832402235\n",
      "  - Precision: 0.7608695652173914\n",
      "  - Recall   : 0.4794520547945205\n",
      "  - F1 Score : 0.5882352941176471\n",
      "  - ROC AUC  : 0.8097053502196951\n",
      "----------------------------------------\n",
      "📌 Logistic Regression 결과:\n",
      "  - Accuracy : 0.7988826815642458\n",
      "  - Precision: 0.7761194029850746\n",
      "  - Recall   : 0.7123287671232876\n",
      "  - F1 Score : 0.7428571428571429\n",
      "  - ROC AUC  : 0.8252132333936417\n",
      "----------------------------------------\n",
      "📌 Decision Tree 결과:\n",
      "  - Accuracy : 0.7262569832402235\n",
      "  - Precision: 0.6764705882352942\n",
      "  - Recall   : 0.6301369863013698\n",
      "  - F1 Score : 0.652482269503546\n",
      "  - ROC AUC  : 0.7104548979064358\n",
      "----------------------------------------\n",
      "📌 Random Forest 결과:\n",
      "  - Accuracy : 0.776536312849162\n"
     ]
    },
    {
     "name": "stderr",
     "output_type": "stream",
     "text": [
      "/home/icl/anaconda3/envs/ML/lib/python3.10/site-packages/xgboost/sklearn.py:1395: UserWarning: `use_label_encoder` is deprecated in 1.7.0.\n",
      "  warnings.warn(\"`use_label_encoder` is deprecated in 1.7.0.\")\n"
     ]
    },
    {
     "name": "stdout",
     "output_type": "stream",
     "text": [
      "  - Precision: 0.7894736842105263\n",
      "  - Recall   : 0.6164383561643836\n",
      "  - F1 Score : 0.6923076923076923\n",
      "  - ROC AUC  : 0.8233393641767899\n",
      "----------------------------------------\n",
      "📌 XGBoost 결과:\n",
      "  - Accuracy : 0.770949720670391\n",
      "  - Precision: 0.7857142857142857\n",
      "  - Recall   : 0.6027397260273972\n",
      "  - F1 Score : 0.6821705426356588\n",
      "  - ROC AUC  : 0.8409795812871542\n",
      "----------------------------------------\n"
     ]
    }
   ],
   "source": [
    "# MLP\n",
    "evaluate_model(\"MLP (PyTorch, all features)\", y_val.values, y_pred_mlp, y_proba_mlp)\n",
    "# Logistic Regression, Decision Tree, Random Forest, XGBoost\n",
    "models = {\n",
    "    \"Logistic Regression\": LogisticRegression(solver='liblinear'),\n",
    "    \"Decision Tree\": DecisionTreeClassifier(random_state=0),\n",
    "    \"Random Forest\": RandomForestClassifier(n_estimators=100, random_state=0),\n",
    "    \"XGBoost\": XGBClassifier(use_label_encoder=False, eval_metric='error', random_state=0)\n",
    "}\n",
    "\n",
    "for name, model in models.items():\n",
    "    model.fit(X_train[all_features], y_train)\n",
    "    y_pred = model.predict(X_val[all_features])\n",
    "\n",
    "    # 확률 값이 있을 경우 ROC-AUC도 평가\n",
    "    if hasattr(model, \"predict_proba\"):\n",
    "        y_proba = model.predict_proba(X_val[all_features])[:, 1]\n",
    "    else:\n",
    "        y_proba = None\n",
    "\n",
    "    evaluate_model(name, y_val, y_pred, y_proba)"
   ]
  }
 ],
 "metadata": {
  "kernelspec": {
   "display_name": "ML",
   "language": "python",
   "name": "python3"
  },
  "language_info": {
   "codemirror_mode": {
    "name": "ipython",
    "version": 3
   },
   "file_extension": ".py",
   "mimetype": "text/x-python",
   "name": "python",
   "nbconvert_exporter": "python",
   "pygments_lexer": "ipython3",
   "version": "3.10.17"
  },
  "papermill": {
   "default_parameters": {},
   "duration": 88.186967,
   "end_time": "2022-02-09T12:53:38.198534",
   "environment_variables": {},
   "exception": null,
   "input_path": "__notebook__.ipynb",
   "output_path": "__notebook__.ipynb",
   "parameters": {},
   "start_time": "2022-02-09T12:52:10.011567",
   "version": "2.3.3"
  }
 },
 "nbformat": 4,
 "nbformat_minor": 5
}
